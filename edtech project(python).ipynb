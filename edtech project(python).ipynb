{
 "cells": [
  {
   "cell_type": "code",
   "execution_count": 56,
   "id": "6d377ade",
   "metadata": {},
   "outputs": [],
   "source": [
    "import pandas as pd\n",
    "import numpy as np\n",
    "import seaborn as sns\n",
    "import matplotlib.pyplot as plt\n",
    "import warnings\n",
    "warnings.filterwarnings(\"ignore\")"
   ]
  },
  {
   "cell_type": "code",
   "execution_count": 28,
   "id": "3d1058ec",
   "metadata": {},
   "outputs": [],
   "source": [
    "df = pd.read_csv('C:\\\\Users\\\\hp\\\\OneDrive\\\\Desktop\\\\EDTECH project\\\\Edtech Capstone Project BI\\\\online_All_Business_p1_p626.csv')"
   ]
  },
  {
   "cell_type": "code",
   "execution_count": 29,
   "id": "d542a2b8",
   "metadata": {},
   "outputs": [
    {
     "data": {
      "text/html": [
       "<div>\n",
       "<style scoped>\n",
       "    .dataframe tbody tr th:only-of-type {\n",
       "        vertical-align: middle;\n",
       "    }\n",
       "\n",
       "    .dataframe tbody tr th {\n",
       "        vertical-align: top;\n",
       "    }\n",
       "\n",
       "    .dataframe thead th {\n",
       "        text-align: right;\n",
       "    }\n",
       "</style>\n",
       "<table border=\"1\" class=\"dataframe\">\n",
       "  <thead>\n",
       "    <tr style=\"text-align: right;\">\n",
       "      <th></th>\n",
       "      <th>id</th>\n",
       "      <th>title</th>\n",
       "      <th>url</th>\n",
       "      <th>is_paid</th>\n",
       "      <th>num_subscribers</th>\n",
       "      <th>avg_rating</th>\n",
       "      <th>avg_rating_recent</th>\n",
       "      <th>rating</th>\n",
       "      <th>num_reviews</th>\n",
       "      <th>is_wishlisted</th>\n",
       "      <th>num_published_lectures</th>\n",
       "      <th>num_published_practice_tests</th>\n",
       "      <th>created</th>\n",
       "      <th>published_time</th>\n",
       "      <th>discount_price__amount</th>\n",
       "      <th>discount_price__currency</th>\n",
       "      <th>discount_price__price_string</th>\n",
       "      <th>price_detail__amount</th>\n",
       "      <th>price_detail__currency</th>\n",
       "      <th>price_detail__price_string</th>\n",
       "    </tr>\n",
       "  </thead>\n",
       "  <tbody>\n",
       "    <tr>\n",
       "      <th>0</th>\n",
       "      <td>762616</td>\n",
       "      <td>The Complete SQL Bootcamp 2020: Go from Zero t...</td>\n",
       "      <td>/course/the-complete-sql-bootcamp/</td>\n",
       "      <td>True</td>\n",
       "      <td>295509</td>\n",
       "      <td>4.66019</td>\n",
       "      <td>4.67874</td>\n",
       "      <td>4.67874</td>\n",
       "      <td>78006</td>\n",
       "      <td>False</td>\n",
       "      <td>84</td>\n",
       "      <td>0</td>\n",
       "      <td>2016-02-14T22:57:48Z</td>\n",
       "      <td>2016-04-06T05:16:11Z</td>\n",
       "      <td>455.0</td>\n",
       "      <td>INR</td>\n",
       "      <td>₹455</td>\n",
       "      <td>8640</td>\n",
       "      <td>INR</td>\n",
       "      <td>₹8,640</td>\n",
       "    </tr>\n",
       "    <tr>\n",
       "      <th>1</th>\n",
       "      <td>937678</td>\n",
       "      <td>Tableau 2020 A-Z: Hands-On Tableau Training fo...</td>\n",
       "      <td>/course/tableau10/</td>\n",
       "      <td>True</td>\n",
       "      <td>209070</td>\n",
       "      <td>4.58956</td>\n",
       "      <td>4.60015</td>\n",
       "      <td>4.60015</td>\n",
       "      <td>54581</td>\n",
       "      <td>False</td>\n",
       "      <td>78</td>\n",
       "      <td>0</td>\n",
       "      <td>2016-08-22T12:10:18Z</td>\n",
       "      <td>2016-08-23T16:59:49Z</td>\n",
       "      <td>455.0</td>\n",
       "      <td>INR</td>\n",
       "      <td>₹455</td>\n",
       "      <td>8640</td>\n",
       "      <td>INR</td>\n",
       "      <td>₹8,640</td>\n",
       "    </tr>\n",
       "    <tr>\n",
       "      <th>2</th>\n",
       "      <td>1361790</td>\n",
       "      <td>PMP Exam Prep Seminar -  PMBOK Guide 6</td>\n",
       "      <td>/course/pmp-pmbok6-35-pdus/</td>\n",
       "      <td>True</td>\n",
       "      <td>155282</td>\n",
       "      <td>4.59491</td>\n",
       "      <td>4.59326</td>\n",
       "      <td>4.59326</td>\n",
       "      <td>52653</td>\n",
       "      <td>False</td>\n",
       "      <td>292</td>\n",
       "      <td>2</td>\n",
       "      <td>2017-09-26T16:32:48Z</td>\n",
       "      <td>2017-11-14T23:58:14Z</td>\n",
       "      <td>455.0</td>\n",
       "      <td>INR</td>\n",
       "      <td>₹455</td>\n",
       "      <td>8640</td>\n",
       "      <td>INR</td>\n",
       "      <td>₹8,640</td>\n",
       "    </tr>\n",
       "    <tr>\n",
       "      <th>3</th>\n",
       "      <td>648826</td>\n",
       "      <td>The Complete Financial Analyst Course 2020</td>\n",
       "      <td>/course/the-complete-financial-analyst-course/</td>\n",
       "      <td>True</td>\n",
       "      <td>245860</td>\n",
       "      <td>4.54407</td>\n",
       "      <td>4.53772</td>\n",
       "      <td>4.53772</td>\n",
       "      <td>46447</td>\n",
       "      <td>False</td>\n",
       "      <td>338</td>\n",
       "      <td>0</td>\n",
       "      <td>2015-10-23T13:34:35Z</td>\n",
       "      <td>2016-01-21T01:38:48Z</td>\n",
       "      <td>455.0</td>\n",
       "      <td>INR</td>\n",
       "      <td>₹455</td>\n",
       "      <td>8640</td>\n",
       "      <td>INR</td>\n",
       "      <td>₹8,640</td>\n",
       "    </tr>\n",
       "    <tr>\n",
       "      <th>4</th>\n",
       "      <td>637930</td>\n",
       "      <td>An Entire MBA in 1 Course:Award Winning Busine...</td>\n",
       "      <td>/course/an-entire-mba-in-1-courseaward-winning...</td>\n",
       "      <td>True</td>\n",
       "      <td>374836</td>\n",
       "      <td>4.47080</td>\n",
       "      <td>4.47173</td>\n",
       "      <td>4.47173</td>\n",
       "      <td>41630</td>\n",
       "      <td>False</td>\n",
       "      <td>83</td>\n",
       "      <td>0</td>\n",
       "      <td>2015-10-12T06:39:46Z</td>\n",
       "      <td>2016-01-11T21:39:33Z</td>\n",
       "      <td>455.0</td>\n",
       "      <td>INR</td>\n",
       "      <td>₹455</td>\n",
       "      <td>8640</td>\n",
       "      <td>INR</td>\n",
       "      <td>₹8,640</td>\n",
       "    </tr>\n",
       "  </tbody>\n",
       "</table>\n",
       "</div>"
      ],
      "text/plain": [
       "        id                                              title  \\\n",
       "0   762616  The Complete SQL Bootcamp 2020: Go from Zero t...   \n",
       "1   937678  Tableau 2020 A-Z: Hands-On Tableau Training fo...   \n",
       "2  1361790             PMP Exam Prep Seminar -  PMBOK Guide 6   \n",
       "3   648826         The Complete Financial Analyst Course 2020   \n",
       "4   637930  An Entire MBA in 1 Course:Award Winning Busine...   \n",
       "\n",
       "                                                 url  is_paid  \\\n",
       "0                 /course/the-complete-sql-bootcamp/     True   \n",
       "1                                 /course/tableau10/     True   \n",
       "2                        /course/pmp-pmbok6-35-pdus/     True   \n",
       "3     /course/the-complete-financial-analyst-course/     True   \n",
       "4  /course/an-entire-mba-in-1-courseaward-winning...     True   \n",
       "\n",
       "   num_subscribers  avg_rating  avg_rating_recent   rating  num_reviews  \\\n",
       "0           295509     4.66019            4.67874  4.67874        78006   \n",
       "1           209070     4.58956            4.60015  4.60015        54581   \n",
       "2           155282     4.59491            4.59326  4.59326        52653   \n",
       "3           245860     4.54407            4.53772  4.53772        46447   \n",
       "4           374836     4.47080            4.47173  4.47173        41630   \n",
       "\n",
       "   is_wishlisted  num_published_lectures  num_published_practice_tests  \\\n",
       "0          False                      84                             0   \n",
       "1          False                      78                             0   \n",
       "2          False                     292                             2   \n",
       "3          False                     338                             0   \n",
       "4          False                      83                             0   \n",
       "\n",
       "                created        published_time  discount_price__amount  \\\n",
       "0  2016-02-14T22:57:48Z  2016-04-06T05:16:11Z                   455.0   \n",
       "1  2016-08-22T12:10:18Z  2016-08-23T16:59:49Z                   455.0   \n",
       "2  2017-09-26T16:32:48Z  2017-11-14T23:58:14Z                   455.0   \n",
       "3  2015-10-23T13:34:35Z  2016-01-21T01:38:48Z                   455.0   \n",
       "4  2015-10-12T06:39:46Z  2016-01-11T21:39:33Z                   455.0   \n",
       "\n",
       "  discount_price__currency discount_price__price_string  price_detail__amount  \\\n",
       "0                      INR                         ₹455                  8640   \n",
       "1                      INR                         ₹455                  8640   \n",
       "2                      INR                         ₹455                  8640   \n",
       "3                      INR                         ₹455                  8640   \n",
       "4                      INR                         ₹455                  8640   \n",
       "\n",
       "  price_detail__currency price_detail__price_string  \n",
       "0                    INR                     ₹8,640  \n",
       "1                    INR                     ₹8,640  \n",
       "2                    INR                     ₹8,640  \n",
       "3                    INR                     ₹8,640  \n",
       "4                    INR                     ₹8,640  "
      ]
     },
     "execution_count": 29,
     "metadata": {},
     "output_type": "execute_result"
    }
   ],
   "source": [
    "df.head()"
   ]
  },
  {
   "cell_type": "code",
   "execution_count": 30,
   "id": "ba0e5810",
   "metadata": {},
   "outputs": [
    {
     "name": "stdout",
     "output_type": "stream",
     "text": [
      "<class 'pandas.core.frame.DataFrame'>\n",
      "RangeIndex: 9447 entries, 0 to 9446\n",
      "Data columns (total 20 columns):\n",
      " #   Column                        Non-Null Count  Dtype  \n",
      "---  ------                        --------------  -----  \n",
      " 0   id                            9447 non-null   int64  \n",
      " 1   title                         9447 non-null   object \n",
      " 2   url                           9447 non-null   object \n",
      " 3   is_paid                       9447 non-null   bool   \n",
      " 4   num_subscribers               9447 non-null   int64  \n",
      " 5   avg_rating                    9447 non-null   float64\n",
      " 6   avg_rating_recent             9447 non-null   float64\n",
      " 7   rating                        9447 non-null   float64\n",
      " 8   num_reviews                   9447 non-null   int64  \n",
      " 9   is_wishlisted                 9447 non-null   bool   \n",
      " 10  num_published_lectures        9447 non-null   int64  \n",
      " 11  num_published_practice_tests  9447 non-null   int64  \n",
      " 12  created                       9447 non-null   object \n",
      " 13  published_time                9447 non-null   object \n",
      " 14  discount_price__amount        8937 non-null   float64\n",
      " 15  discount_price__currency      8937 non-null   object \n",
      " 16  discount_price__price_string  8937 non-null   object \n",
      " 17  price_detail__amount          9447 non-null   int64  \n",
      " 18  price_detail__currency        9447 non-null   object \n",
      " 19  price_detail__price_string    9447 non-null   object \n",
      "dtypes: bool(2), float64(4), int64(6), object(8)\n",
      "memory usage: 1.3+ MB\n"
     ]
    }
   ],
   "source": [
    "df.info()"
   ]
  },
  {
   "cell_type": "code",
   "execution_count": 31,
   "id": "5415bed5",
   "metadata": {},
   "outputs": [
    {
     "data": {
      "text/plain": [
       "INR    9447\n",
       "Name: price_detail__currency, dtype: int64"
      ]
     },
     "execution_count": 31,
     "metadata": {},
     "output_type": "execute_result"
    }
   ],
   "source": [
    "# check for unique values in non-relevant columns\n",
    "df['price_detail__currency'].value_counts()"
   ]
  },
  {
   "cell_type": "code",
   "execution_count": 32,
   "id": "c90e2c03",
   "metadata": {},
   "outputs": [
    {
     "data": {
      "text/plain": [
       "INR    8937\n",
       "Name: discount_price__currency, dtype: int64"
      ]
     },
     "execution_count": 32,
     "metadata": {},
     "output_type": "execute_result"
    }
   ],
   "source": [
    "df['discount_price__currency'].value_counts()"
   ]
  },
  {
   "cell_type": "code",
   "execution_count": 33,
   "id": "08b1e362",
   "metadata": {},
   "outputs": [
    {
     "data": {
      "text/plain": [
       "True    9447\n",
       "Name: is_paid, dtype: int64"
      ]
     },
     "execution_count": 33,
     "metadata": {},
     "output_type": "execute_result"
    }
   ],
   "source": [
    "df['is_paid'].value_counts()"
   ]
  },
  {
   "cell_type": "code",
   "execution_count": 34,
   "id": "85b790cc",
   "metadata": {},
   "outputs": [
    {
     "data": {
      "text/plain": [
       "False    9447\n",
       "Name: is_wishlisted, dtype: int64"
      ]
     },
     "execution_count": 34,
     "metadata": {},
     "output_type": "execute_result"
    }
   ],
   "source": [
    "df['is_wishlisted'].value_counts()"
   ]
  },
  {
   "cell_type": "code",
   "execution_count": 35,
   "id": "58215b8a",
   "metadata": {},
   "outputs": [],
   "source": [
    "# drop unnecessary columns\n",
    "\n",
    "df.drop(['price_detail__currency','discount_price__currency','discount_price__price_string','price_detail__price_string','rating','avg_rating_recent','is_wishlisted','is_paid'],axis=1,inplace=True)"
   ]
  },
  {
   "cell_type": "code",
   "execution_count": 36,
   "id": "e51b7034",
   "metadata": {},
   "outputs": [],
   "source": [
    "df.rename({'price_detail__amount': 'detail_amount', 'discount_price__amount': 'discount_amount',\n",
    "           'num_published_practice_tests':'practice_tests','num_published_lectures':'num_of_lectures'}, axis=1, inplace=True)\n"
   ]
  },
  {
   "cell_type": "code",
   "execution_count": 37,
   "id": "56e7521a",
   "metadata": {},
   "outputs": [
    {
     "data": {
      "text/html": [
       "<div>\n",
       "<style scoped>\n",
       "    .dataframe tbody tr th:only-of-type {\n",
       "        vertical-align: middle;\n",
       "    }\n",
       "\n",
       "    .dataframe tbody tr th {\n",
       "        vertical-align: top;\n",
       "    }\n",
       "\n",
       "    .dataframe thead th {\n",
       "        text-align: right;\n",
       "    }\n",
       "</style>\n",
       "<table border=\"1\" class=\"dataframe\">\n",
       "  <thead>\n",
       "    <tr style=\"text-align: right;\">\n",
       "      <th></th>\n",
       "      <th>count</th>\n",
       "      <th>mean</th>\n",
       "      <th>std</th>\n",
       "      <th>min</th>\n",
       "      <th>25%</th>\n",
       "      <th>50%</th>\n",
       "      <th>75%</th>\n",
       "      <th>max</th>\n",
       "    </tr>\n",
       "  </thead>\n",
       "  <tbody>\n",
       "    <tr>\n",
       "      <th>id</th>\n",
       "      <td>9447.0</td>\n",
       "      <td>1.456603e+06</td>\n",
       "      <td>895660.094130</td>\n",
       "      <td>2762.0</td>\n",
       "      <td>673031.0</td>\n",
       "      <td>1381806.0</td>\n",
       "      <td>2154793.00</td>\n",
       "      <td>3469452.0</td>\n",
       "    </tr>\n",
       "    <tr>\n",
       "      <th>num_subscribers</th>\n",
       "      <td>9447.0</td>\n",
       "      <td>3.399298e+03</td>\n",
       "      <td>10451.534122</td>\n",
       "      <td>3.0</td>\n",
       "      <td>141.0</td>\n",
       "      <td>916.0</td>\n",
       "      <td>2889.50</td>\n",
       "      <td>374836.0</td>\n",
       "    </tr>\n",
       "    <tr>\n",
       "      <th>avg_rating</th>\n",
       "      <td>9447.0</td>\n",
       "      <td>4.138522e+00</td>\n",
       "      <td>0.453581</td>\n",
       "      <td>1.0</td>\n",
       "      <td>3.9</td>\n",
       "      <td>4.2</td>\n",
       "      <td>4.45</td>\n",
       "      <td>5.0</td>\n",
       "    </tr>\n",
       "    <tr>\n",
       "      <th>num_reviews</th>\n",
       "      <td>9447.0</td>\n",
       "      <td>2.990545e+02</td>\n",
       "      <td>1826.867472</td>\n",
       "      <td>3.0</td>\n",
       "      <td>12.0</td>\n",
       "      <td>33.0</td>\n",
       "      <td>110.00</td>\n",
       "      <td>78006.0</td>\n",
       "    </tr>\n",
       "    <tr>\n",
       "      <th>num_of_lectures</th>\n",
       "      <td>9447.0</td>\n",
       "      <td>3.440087e+01</td>\n",
       "      <td>46.061088</td>\n",
       "      <td>0.0</td>\n",
       "      <td>13.0</td>\n",
       "      <td>23.0</td>\n",
       "      <td>39.00</td>\n",
       "      <td>699.0</td>\n",
       "    </tr>\n",
       "    <tr>\n",
       "      <th>practice_tests</th>\n",
       "      <td>9447.0</td>\n",
       "      <td>1.018313e-01</td>\n",
       "      <td>0.580037</td>\n",
       "      <td>0.0</td>\n",
       "      <td>0.0</td>\n",
       "      <td>0.0</td>\n",
       "      <td>0.00</td>\n",
       "      <td>6.0</td>\n",
       "    </tr>\n",
       "    <tr>\n",
       "      <th>discount_amount</th>\n",
       "      <td>8937.0</td>\n",
       "      <td>4.889841e+02</td>\n",
       "      <td>247.833161</td>\n",
       "      <td>455.0</td>\n",
       "      <td>455.0</td>\n",
       "      <td>455.0</td>\n",
       "      <td>455.00</td>\n",
       "      <td>3200.0</td>\n",
       "    </tr>\n",
       "    <tr>\n",
       "      <th>detail_amount</th>\n",
       "      <td>9447.0</td>\n",
       "      <td>4.828758e+03</td>\n",
       "      <td>3108.307674</td>\n",
       "      <td>1280.0</td>\n",
       "      <td>1600.0</td>\n",
       "      <td>3840.0</td>\n",
       "      <td>8640.00</td>\n",
       "      <td>12800.0</td>\n",
       "    </tr>\n",
       "  </tbody>\n",
       "</table>\n",
       "</div>"
      ],
      "text/plain": [
       "                  count          mean            std     min       25%  \\\n",
       "id               9447.0  1.456603e+06  895660.094130  2762.0  673031.0   \n",
       "num_subscribers  9447.0  3.399298e+03   10451.534122     3.0     141.0   \n",
       "avg_rating       9447.0  4.138522e+00       0.453581     1.0       3.9   \n",
       "num_reviews      9447.0  2.990545e+02    1826.867472     3.0      12.0   \n",
       "num_of_lectures  9447.0  3.440087e+01      46.061088     0.0      13.0   \n",
       "practice_tests   9447.0  1.018313e-01       0.580037     0.0       0.0   \n",
       "discount_amount  8937.0  4.889841e+02     247.833161   455.0     455.0   \n",
       "detail_amount    9447.0  4.828758e+03    3108.307674  1280.0    1600.0   \n",
       "\n",
       "                       50%         75%        max  \n",
       "id               1381806.0  2154793.00  3469452.0  \n",
       "num_subscribers      916.0     2889.50   374836.0  \n",
       "avg_rating             4.2        4.45        5.0  \n",
       "num_reviews           33.0      110.00    78006.0  \n",
       "num_of_lectures       23.0       39.00      699.0  \n",
       "practice_tests         0.0        0.00        6.0  \n",
       "discount_amount      455.0      455.00     3200.0  \n",
       "detail_amount       3840.0     8640.00    12800.0  "
      ]
     },
     "execution_count": 37,
     "metadata": {},
     "output_type": "execute_result"
    }
   ],
   "source": [
    "df.describe().transpose()"
   ]
  },
  {
   "cell_type": "code",
   "execution_count": 38,
   "id": "27c31f8b",
   "metadata": {},
   "outputs": [
    {
     "data": {
      "text/plain": [
       "9447"
      ]
     },
     "execution_count": 38,
     "metadata": {},
     "output_type": "execute_result"
    }
   ],
   "source": [
    "df['url'].nunique()"
   ]
  },
  {
   "cell_type": "code",
   "execution_count": 39,
   "id": "c570735a",
   "metadata": {},
   "outputs": [
    {
     "name": "stdout",
     "output_type": "stream",
     "text": [
      "<class 'pandas.core.frame.DataFrame'>\n",
      "RangeIndex: 9447 entries, 0 to 9446\n",
      "Data columns (total 12 columns):\n",
      " #   Column           Non-Null Count  Dtype  \n",
      "---  ------           --------------  -----  \n",
      " 0   id               9447 non-null   int64  \n",
      " 1   title            9447 non-null   object \n",
      " 2   url              9447 non-null   object \n",
      " 3   num_subscribers  9447 non-null   int64  \n",
      " 4   avg_rating       9447 non-null   float64\n",
      " 5   num_reviews      9447 non-null   int64  \n",
      " 6   num_of_lectures  9447 non-null   int64  \n",
      " 7   practice_tests   9447 non-null   int64  \n",
      " 8   created          9447 non-null   object \n",
      " 9   published_time   9447 non-null   object \n",
      " 10  discount_amount  8937 non-null   float64\n",
      " 11  detail_amount    9447 non-null   int64  \n",
      "dtypes: float64(2), int64(6), object(4)\n",
      "memory usage: 885.8+ KB\n"
     ]
    }
   ],
   "source": [
    "df.info()"
   ]
  },
  {
   "cell_type": "code",
   "execution_count": 40,
   "id": "23684fa0",
   "metadata": {},
   "outputs": [
    {
     "data": {
      "text/plain": [
       "id                   0\n",
       "title                0\n",
       "url                  0\n",
       "num_subscribers      0\n",
       "avg_rating           0\n",
       "num_reviews          0\n",
       "num_of_lectures      0\n",
       "practice_tests       0\n",
       "created              0\n",
       "published_time       0\n",
       "discount_amount    510\n",
       "detail_amount        0\n",
       "dtype: int64"
      ]
     },
     "execution_count": 40,
     "metadata": {},
     "output_type": "execute_result"
    }
   ],
   "source": [
    "df.isnull().sum()"
   ]
  },
  {
   "cell_type": "code",
   "execution_count": 41,
   "id": "cb6d2c56",
   "metadata": {},
   "outputs": [
    {
     "data": {
      "text/plain": [
       "5.398539218799619"
      ]
     },
     "execution_count": 41,
     "metadata": {},
     "output_type": "execute_result"
    }
   ],
   "source": [
    "df['discount_amount'].isnull().sum()/9447*100"
   ]
  },
  {
   "cell_type": "markdown",
   "id": "9a416214",
   "metadata": {},
   "source": [
    "**There are around 5.4% null values in the column 'discount_amount'.Thus, dropping these values.**"
   ]
  },
  {
   "cell_type": "code",
   "execution_count": 42,
   "id": "e6bda8f7",
   "metadata": {},
   "outputs": [],
   "source": [
    "df = df.dropna()"
   ]
  },
  {
   "cell_type": "code",
   "execution_count": 43,
   "id": "5d0aa666",
   "metadata": {},
   "outputs": [],
   "source": [
    "df['discount_amount'] = df['discount_amount'].astype(int)"
   ]
  },
  {
   "cell_type": "code",
   "execution_count": 44,
   "id": "d2304d4b",
   "metadata": {},
   "outputs": [
    {
     "name": "stdout",
     "output_type": "stream",
     "text": [
      "<class 'pandas.core.frame.DataFrame'>\n",
      "Int64Index: 8937 entries, 0 to 9446\n",
      "Data columns (total 12 columns):\n",
      " #   Column           Non-Null Count  Dtype  \n",
      "---  ------           --------------  -----  \n",
      " 0   id               8937 non-null   int64  \n",
      " 1   title            8937 non-null   object \n",
      " 2   url              8937 non-null   object \n",
      " 3   num_subscribers  8937 non-null   int64  \n",
      " 4   avg_rating       8937 non-null   float64\n",
      " 5   num_reviews      8937 non-null   int64  \n",
      " 6   num_of_lectures  8937 non-null   int64  \n",
      " 7   practice_tests   8937 non-null   int64  \n",
      " 8   created          8937 non-null   object \n",
      " 9   published_time   8937 non-null   object \n",
      " 10  discount_amount  8937 non-null   int32  \n",
      " 11  detail_amount    8937 non-null   int64  \n",
      "dtypes: float64(1), int32(1), int64(6), object(4)\n",
      "memory usage: 872.8+ KB\n"
     ]
    }
   ],
   "source": [
    "df.info()"
   ]
  },
  {
   "cell_type": "code",
   "execution_count": 45,
   "id": "0e425ea6",
   "metadata": {},
   "outputs": [
    {
     "data": {
      "text/html": [
       "<div>\n",
       "<style scoped>\n",
       "    .dataframe tbody tr th:only-of-type {\n",
       "        vertical-align: middle;\n",
       "    }\n",
       "\n",
       "    .dataframe tbody tr th {\n",
       "        vertical-align: top;\n",
       "    }\n",
       "\n",
       "    .dataframe thead th {\n",
       "        text-align: right;\n",
       "    }\n",
       "</style>\n",
       "<table border=\"1\" class=\"dataframe\">\n",
       "  <thead>\n",
       "    <tr style=\"text-align: right;\">\n",
       "      <th></th>\n",
       "      <th>id</th>\n",
       "      <th>title</th>\n",
       "      <th>url</th>\n",
       "      <th>num_subscribers</th>\n",
       "      <th>avg_rating</th>\n",
       "      <th>num_reviews</th>\n",
       "      <th>num_of_lectures</th>\n",
       "      <th>practice_tests</th>\n",
       "      <th>created</th>\n",
       "      <th>published_time</th>\n",
       "      <th>discount_amount</th>\n",
       "      <th>detail_amount</th>\n",
       "    </tr>\n",
       "  </thead>\n",
       "  <tbody>\n",
       "    <tr>\n",
       "      <th>0</th>\n",
       "      <td>762616</td>\n",
       "      <td>The Complete SQL Bootcamp 2020: Go from Zero t...</td>\n",
       "      <td>/course/the-complete-sql-bootcamp/</td>\n",
       "      <td>295509</td>\n",
       "      <td>4.66019</td>\n",
       "      <td>78006</td>\n",
       "      <td>84</td>\n",
       "      <td>0</td>\n",
       "      <td>2016-02-14T22:57:48Z</td>\n",
       "      <td>2016-04-06T05:16:11Z</td>\n",
       "      <td>455</td>\n",
       "      <td>8640</td>\n",
       "    </tr>\n",
       "    <tr>\n",
       "      <th>1</th>\n",
       "      <td>937678</td>\n",
       "      <td>Tableau 2020 A-Z: Hands-On Tableau Training fo...</td>\n",
       "      <td>/course/tableau10/</td>\n",
       "      <td>209070</td>\n",
       "      <td>4.58956</td>\n",
       "      <td>54581</td>\n",
       "      <td>78</td>\n",
       "      <td>0</td>\n",
       "      <td>2016-08-22T12:10:18Z</td>\n",
       "      <td>2016-08-23T16:59:49Z</td>\n",
       "      <td>455</td>\n",
       "      <td>8640</td>\n",
       "    </tr>\n",
       "  </tbody>\n",
       "</table>\n",
       "</div>"
      ],
      "text/plain": [
       "       id                                              title  \\\n",
       "0  762616  The Complete SQL Bootcamp 2020: Go from Zero t...   \n",
       "1  937678  Tableau 2020 A-Z: Hands-On Tableau Training fo...   \n",
       "\n",
       "                                  url  num_subscribers  avg_rating  \\\n",
       "0  /course/the-complete-sql-bootcamp/           295509     4.66019   \n",
       "1                  /course/tableau10/           209070     4.58956   \n",
       "\n",
       "   num_reviews  num_of_lectures  practice_tests               created  \\\n",
       "0        78006               84               0  2016-02-14T22:57:48Z   \n",
       "1        54581               78               0  2016-08-22T12:10:18Z   \n",
       "\n",
       "         published_time  discount_amount  detail_amount  \n",
       "0  2016-04-06T05:16:11Z              455           8640  \n",
       "1  2016-08-23T16:59:49Z              455           8640  "
      ]
     },
     "execution_count": 45,
     "metadata": {},
     "output_type": "execute_result"
    }
   ],
   "source": [
    "df.head(2)"
   ]
  },
  {
   "cell_type": "code",
   "execution_count": 46,
   "id": "5419a74d",
   "metadata": {},
   "outputs": [],
   "source": [
    "from datetime import datetime"
   ]
  },
  {
   "cell_type": "code",
   "execution_count": 47,
   "id": "2145ee45",
   "metadata": {},
   "outputs": [],
   "source": [
    "df['created'] = pd.to_datetime(df['created'])"
   ]
  },
  {
   "cell_type": "code",
   "execution_count": 48,
   "id": "44e2ac07",
   "metadata": {},
   "outputs": [],
   "source": [
    "df['published_time'] = pd.to_datetime(df['published_time'])"
   ]
  },
  {
   "cell_type": "code",
   "execution_count": 49,
   "id": "688161bb",
   "metadata": {},
   "outputs": [
    {
     "name": "stdout",
     "output_type": "stream",
     "text": [
      "<class 'pandas.core.frame.DataFrame'>\n",
      "Int64Index: 8937 entries, 0 to 9446\n",
      "Data columns (total 12 columns):\n",
      " #   Column           Non-Null Count  Dtype              \n",
      "---  ------           --------------  -----              \n",
      " 0   id               8937 non-null   int64              \n",
      " 1   title            8937 non-null   object             \n",
      " 2   url              8937 non-null   object             \n",
      " 3   num_subscribers  8937 non-null   int64              \n",
      " 4   avg_rating       8937 non-null   float64            \n",
      " 5   num_reviews      8937 non-null   int64              \n",
      " 6   num_of_lectures  8937 non-null   int64              \n",
      " 7   practice_tests   8937 non-null   int64              \n",
      " 8   created          8937 non-null   datetime64[ns, UTC]\n",
      " 9   published_time   8937 non-null   datetime64[ns, UTC]\n",
      " 10  discount_amount  8937 non-null   int32              \n",
      " 11  detail_amount    8937 non-null   int64              \n",
      "dtypes: datetime64[ns, UTC](2), float64(1), int32(1), int64(6), object(2)\n",
      "memory usage: 872.8+ KB\n"
     ]
    }
   ],
   "source": [
    "df.info()"
   ]
  },
  {
   "cell_type": "code",
   "execution_count": 50,
   "id": "dd4bad05",
   "metadata": {},
   "outputs": [],
   "source": [
    "df['year'] = df['published_time'].dt.year\n",
    "df['month'] = df['published_time'].dt.month"
   ]
  },
  {
   "cell_type": "code",
   "execution_count": 52,
   "id": "d2ff7d6c",
   "metadata": {},
   "outputs": [
    {
     "data": {
      "text/html": [
       "<div>\n",
       "<style scoped>\n",
       "    .dataframe tbody tr th:only-of-type {\n",
       "        vertical-align: middle;\n",
       "    }\n",
       "\n",
       "    .dataframe tbody tr th {\n",
       "        vertical-align: top;\n",
       "    }\n",
       "\n",
       "    .dataframe thead th {\n",
       "        text-align: right;\n",
       "    }\n",
       "</style>\n",
       "<table border=\"1\" class=\"dataframe\">\n",
       "  <thead>\n",
       "    <tr style=\"text-align: right;\">\n",
       "      <th></th>\n",
       "      <th>id</th>\n",
       "      <th>title</th>\n",
       "      <th>url</th>\n",
       "      <th>num_subscribers</th>\n",
       "      <th>avg_rating</th>\n",
       "      <th>num_reviews</th>\n",
       "      <th>num_of_lectures</th>\n",
       "      <th>practice_tests</th>\n",
       "      <th>created</th>\n",
       "      <th>published_time</th>\n",
       "      <th>discount_amount</th>\n",
       "      <th>detail_amount</th>\n",
       "      <th>year</th>\n",
       "      <th>month</th>\n",
       "    </tr>\n",
       "  </thead>\n",
       "  <tbody>\n",
       "    <tr>\n",
       "      <th>0</th>\n",
       "      <td>762616</td>\n",
       "      <td>The Complete SQL Bootcamp 2020: Go from Zero t...</td>\n",
       "      <td>/course/the-complete-sql-bootcamp/</td>\n",
       "      <td>295509</td>\n",
       "      <td>4.66019</td>\n",
       "      <td>78006</td>\n",
       "      <td>84</td>\n",
       "      <td>0</td>\n",
       "      <td>2016-02-14 22:57:48+00:00</td>\n",
       "      <td>2016-04-06 05:16:11+00:00</td>\n",
       "      <td>455</td>\n",
       "      <td>8640</td>\n",
       "      <td>2016</td>\n",
       "      <td>4</td>\n",
       "    </tr>\n",
       "    <tr>\n",
       "      <th>1</th>\n",
       "      <td>937678</td>\n",
       "      <td>Tableau 2020 A-Z: Hands-On Tableau Training fo...</td>\n",
       "      <td>/course/tableau10/</td>\n",
       "      <td>209070</td>\n",
       "      <td>4.58956</td>\n",
       "      <td>54581</td>\n",
       "      <td>78</td>\n",
       "      <td>0</td>\n",
       "      <td>2016-08-22 12:10:18+00:00</td>\n",
       "      <td>2016-08-23 16:59:49+00:00</td>\n",
       "      <td>455</td>\n",
       "      <td>8640</td>\n",
       "      <td>2016</td>\n",
       "      <td>8</td>\n",
       "    </tr>\n",
       "  </tbody>\n",
       "</table>\n",
       "</div>"
      ],
      "text/plain": [
       "       id                                              title  \\\n",
       "0  762616  The Complete SQL Bootcamp 2020: Go from Zero t...   \n",
       "1  937678  Tableau 2020 A-Z: Hands-On Tableau Training fo...   \n",
       "\n",
       "                                  url  num_subscribers  avg_rating  \\\n",
       "0  /course/the-complete-sql-bootcamp/           295509     4.66019   \n",
       "1                  /course/tableau10/           209070     4.58956   \n",
       "\n",
       "   num_reviews  num_of_lectures  practice_tests                   created  \\\n",
       "0        78006               84               0 2016-02-14 22:57:48+00:00   \n",
       "1        54581               78               0 2016-08-22 12:10:18+00:00   \n",
       "\n",
       "             published_time  discount_amount  detail_amount  year  month  \n",
       "0 2016-04-06 05:16:11+00:00              455           8640  2016      4  \n",
       "1 2016-08-23 16:59:49+00:00              455           8640  2016      8  "
      ]
     },
     "execution_count": 52,
     "metadata": {},
     "output_type": "execute_result"
    }
   ],
   "source": [
    "df.head(2)"
   ]
  },
  {
   "cell_type": "markdown",
   "id": "65a4ed12",
   "metadata": {},
   "source": [
    "# Data visualization"
   ]
  },
  {
   "cell_type": "code",
   "execution_count": 57,
   "id": "2dfa936a",
   "metadata": {},
   "outputs": [
    {
     "data": {
      "image/png": "[encoded data removed]",
      "text/plain": [
       "<Figure size 1296x432 with 2 Axes>"
      ]
     },
     "metadata": {
      "needs_background": "light"
     },
     "output_type": "display_data"
    },
    {
     "data": {
      "text/plain": [
       "<Figure size 1000x400 with 0 Axes>"
      ]
     },
     "metadata": {},
     "output_type": "display_data"
    }
   ],
   "source": [
    "fig,axes = plt.subplots(nrows=1,ncols=2,figsize=(18,6))\n",
    "plt.figure(figsize=(5,2),dpi=200)\n",
    "ax=sns.barplot(ax=axes[0],x='id',y='num_subscribers',data=df.sort_values('num_subscribers', ascending=False).head(5))\n",
    "ax1=sns.barplot(ax=axes[1],x='id',y='num_subscribers',data=df.sort_values('num_subscribers', ascending=True).head(5))\n",
    "\n",
    "ax.set_yticklabels(ax.get_yticklabels(),fontsize=12)\n",
    "ax.bar_label(ax.containers[0])\n",
    "\n",
    "ax1.set_yticklabels(ax1.get_yticklabels(),fontsize=12)\n",
    "ax1.bar_label(ax1.containers[0])\n",
    "\n",
    "plt.show()"
   ]
  },
  {
   "cell_type": "markdown",
   "id": "170b01f1",
   "metadata": {},
   "source": [
    "***Thus,id =637930(An Entire MBA in 1 Course:Award Winning Business) is the most subscibed course with 374836 subscribers<br>\n",
    "and id = 2269050,3054822,3176461 is the least subscribed courses having count of only 3.***"
   ]
  },
  {
   "cell_type": "code",
   "execution_count": 58,
   "id": "d30f07b8",
   "metadata": {},
   "outputs": [
    {
     "data": {
      "text/html": [
       "<div>\n",
       "<style scoped>\n",
       "    .dataframe tbody tr th:only-of-type {\n",
       "        vertical-align: middle;\n",
       "    }\n",
       "\n",
       "    .dataframe tbody tr th {\n",
       "        vertical-align: top;\n",
       "    }\n",
       "\n",
       "    .dataframe thead th {\n",
       "        text-align: right;\n",
       "    }\n",
       "</style>\n",
       "<table border=\"1\" class=\"dataframe\">\n",
       "  <thead>\n",
       "    <tr style=\"text-align: right;\">\n",
       "      <th></th>\n",
       "      <th>id</th>\n",
       "      <th>title</th>\n",
       "      <th>url</th>\n",
       "      <th>num_subscribers</th>\n",
       "      <th>avg_rating</th>\n",
       "      <th>num_reviews</th>\n",
       "      <th>num_of_lectures</th>\n",
       "      <th>practice_tests</th>\n",
       "      <th>created</th>\n",
       "      <th>published_time</th>\n",
       "      <th>discount_amount</th>\n",
       "      <th>detail_amount</th>\n",
       "      <th>year</th>\n",
       "      <th>month</th>\n",
       "    </tr>\n",
       "  </thead>\n",
       "  <tbody>\n",
       "    <tr>\n",
       "      <th>0</th>\n",
       "      <td>762616</td>\n",
       "      <td>The Complete SQL Bootcamp 2020: Go from Zero t...</td>\n",
       "      <td>/course/the-complete-sql-bootcamp/</td>\n",
       "      <td>295509</td>\n",
       "      <td>4.66019</td>\n",
       "      <td>78006</td>\n",
       "      <td>84</td>\n",
       "      <td>0</td>\n",
       "      <td>2016-02-14 22:57:48+00:00</td>\n",
       "      <td>2016-04-06 05:16:11+00:00</td>\n",
       "      <td>455</td>\n",
       "      <td>8640</td>\n",
       "      <td>2016</td>\n",
       "      <td>4</td>\n",
       "    </tr>\n",
       "    <tr>\n",
       "      <th>4</th>\n",
       "      <td>637930</td>\n",
       "      <td>An Entire MBA in 1 Course:Award Winning Busine...</td>\n",
       "      <td>/course/an-entire-mba-in-1-courseaward-winning...</td>\n",
       "      <td>374836</td>\n",
       "      <td>4.47080</td>\n",
       "      <td>41630</td>\n",
       "      <td>83</td>\n",
       "      <td>0</td>\n",
       "      <td>2015-10-12 06:39:46+00:00</td>\n",
       "      <td>2016-01-11 21:39:33+00:00</td>\n",
       "      <td>455</td>\n",
       "      <td>8640</td>\n",
       "      <td>2016</td>\n",
       "      <td>1</td>\n",
       "    </tr>\n",
       "    <tr>\n",
       "      <th>19</th>\n",
       "      <td>980086</td>\n",
       "      <td>Deep Learning Prerequisites: The Numpy Stack i...</td>\n",
       "      <td>/course/deep-learning-prerequisites-the-numpy-...</td>\n",
       "      <td>239309</td>\n",
       "      <td>4.47381</td>\n",
       "      <td>18322</td>\n",
       "      <td>47</td>\n",
       "      <td>0</td>\n",
       "      <td>2016-10-10 06:34:58+00:00</td>\n",
       "      <td>2016-10-12 16:51:08+00:00</td>\n",
       "      <td>455</td>\n",
       "      <td>1280</td>\n",
       "      <td>2016</td>\n",
       "      <td>10</td>\n",
       "    </tr>\n",
       "  </tbody>\n",
       "</table>\n",
       "</div>"
      ],
      "text/plain": [
       "        id                                              title  \\\n",
       "0   762616  The Complete SQL Bootcamp 2020: Go from Zero t...   \n",
       "4   637930  An Entire MBA in 1 Course:Award Winning Busine...   \n",
       "19  980086  Deep Learning Prerequisites: The Numpy Stack i...   \n",
       "\n",
       "                                                  url  num_subscribers  \\\n",
       "0                  /course/the-complete-sql-bootcamp/           295509   \n",
       "4   /course/an-entire-mba-in-1-courseaward-winning...           374836   \n",
       "19  /course/deep-learning-prerequisites-the-numpy-...           239309   \n",
       "\n",
       "    avg_rating  num_reviews  num_of_lectures  practice_tests  \\\n",
       "0      4.66019        78006               84               0   \n",
       "4      4.47080        41630               83               0   \n",
       "19     4.47381        18322               47               0   \n",
       "\n",
       "                     created            published_time  discount_amount  \\\n",
       "0  2016-02-14 22:57:48+00:00 2016-04-06 05:16:11+00:00              455   \n",
       "4  2015-10-12 06:39:46+00:00 2016-01-11 21:39:33+00:00              455   \n",
       "19 2016-10-10 06:34:58+00:00 2016-10-12 16:51:08+00:00              455   \n",
       "\n",
       "    detail_amount  year  month  \n",
       "0            8640  2016      4  \n",
       "4            8640  2016      1  \n",
       "19           1280  2016     10  "
      ]
     },
     "execution_count": 58,
     "metadata": {},
     "output_type": "execute_result"
    }
   ],
   "source": [
    "#Top 3 courses information\n",
    "df[df.isin([637930,762616,980086]).any(axis=1)]"
   ]
  },
  {
   "cell_type": "code",
   "execution_count": 59,
   "id": "581d7aca",
   "metadata": {},
   "outputs": [
    {
     "data": {
      "text/html": [
       "<div>\n",
       "<style scoped>\n",
       "    .dataframe tbody tr th:only-of-type {\n",
       "        vertical-align: middle;\n",
       "    }\n",
       "\n",
       "    .dataframe tbody tr th {\n",
       "        vertical-align: top;\n",
       "    }\n",
       "\n",
       "    .dataframe thead th {\n",
       "        text-align: right;\n",
       "    }\n",
       "</style>\n",
       "<table border=\"1\" class=\"dataframe\">\n",
       "  <thead>\n",
       "    <tr style=\"text-align: right;\">\n",
       "      <th></th>\n",
       "      <th>id</th>\n",
       "      <th>title</th>\n",
       "      <th>url</th>\n",
       "      <th>num_subscribers</th>\n",
       "      <th>avg_rating</th>\n",
       "      <th>num_reviews</th>\n",
       "      <th>num_of_lectures</th>\n",
       "      <th>practice_tests</th>\n",
       "      <th>created</th>\n",
       "      <th>published_time</th>\n",
       "      <th>discount_amount</th>\n",
       "      <th>detail_amount</th>\n",
       "      <th>year</th>\n",
       "      <th>month</th>\n",
       "    </tr>\n",
       "  </thead>\n",
       "  <tbody>\n",
       "    <tr>\n",
       "      <th>9329</th>\n",
       "      <td>3054822</td>\n",
       "      <td>Crowdfunding Training Course: Everything You N...</td>\n",
       "      <td>/course/successful-crowdfunding-tonight/</td>\n",
       "      <td>3</td>\n",
       "      <td>5.0</td>\n",
       "      <td>3</td>\n",
       "      <td>34</td>\n",
       "      <td>0</td>\n",
       "      <td>2020-04-26 14:52:53+00:00</td>\n",
       "      <td>2020-06-14 00:07:16+00:00</td>\n",
       "      <td>455</td>\n",
       "      <td>1600</td>\n",
       "      <td>2020</td>\n",
       "      <td>6</td>\n",
       "    </tr>\n",
       "    <tr>\n",
       "      <th>9337</th>\n",
       "      <td>2269050</td>\n",
       "      <td>Ebay From Scratch in 2019 - Hidden Secrets Nev...</td>\n",
       "      <td>/course/ebay-from-scratch-in-2019-hidden-secre...</td>\n",
       "      <td>3</td>\n",
       "      <td>3.5</td>\n",
       "      <td>3</td>\n",
       "      <td>16</td>\n",
       "      <td>0</td>\n",
       "      <td>2019-03-13 03:05:09+00:00</td>\n",
       "      <td>2019-03-18 19:23:34+00:00</td>\n",
       "      <td>455</td>\n",
       "      <td>8640</td>\n",
       "      <td>2019</td>\n",
       "      <td>3</td>\n",
       "    </tr>\n",
       "    <tr>\n",
       "      <th>9395</th>\n",
       "      <td>3390724</td>\n",
       "      <td>Negotiation Mastery: Become A World Class Nego...</td>\n",
       "      <td>/course/negotiation-mastery-become-a-world-cla...</td>\n",
       "      <td>3</td>\n",
       "      <td>5.0</td>\n",
       "      <td>3</td>\n",
       "      <td>20</td>\n",
       "      <td>0</td>\n",
       "      <td>2020-08-03 22:42:06+00:00</td>\n",
       "      <td>2020-08-11 10:58:03+00:00</td>\n",
       "      <td>455</td>\n",
       "      <td>8640</td>\n",
       "      <td>2020</td>\n",
       "      <td>8</td>\n",
       "    </tr>\n",
       "  </tbody>\n",
       "</table>\n",
       "</div>"
      ],
      "text/plain": [
       "           id                                              title  \\\n",
       "9329  3054822  Crowdfunding Training Course: Everything You N...   \n",
       "9337  2269050  Ebay From Scratch in 2019 - Hidden Secrets Nev...   \n",
       "9395  3390724  Negotiation Mastery: Become A World Class Nego...   \n",
       "\n",
       "                                                    url  num_subscribers  \\\n",
       "9329           /course/successful-crowdfunding-tonight/                3   \n",
       "9337  /course/ebay-from-scratch-in-2019-hidden-secre...                3   \n",
       "9395  /course/negotiation-mastery-become-a-world-cla...                3   \n",
       "\n",
       "      avg_rating  num_reviews  num_of_lectures  practice_tests  \\\n",
       "9329         5.0            3               34               0   \n",
       "9337         3.5            3               16               0   \n",
       "9395         5.0            3               20               0   \n",
       "\n",
       "                       created            published_time  discount_amount  \\\n",
       "9329 2020-04-26 14:52:53+00:00 2020-06-14 00:07:16+00:00              455   \n",
       "9337 2019-03-13 03:05:09+00:00 2019-03-18 19:23:34+00:00              455   \n",
       "9395 2020-08-03 22:42:06+00:00 2020-08-11 10:58:03+00:00              455   \n",
       "\n",
       "      detail_amount  year  month  \n",
       "9329           1600  2020      6  \n",
       "9337           8640  2019      3  \n",
       "9395           8640  2020      8  "
      ]
     },
     "execution_count": 59,
     "metadata": {},
     "output_type": "execute_result"
    }
   ],
   "source": [
    "#Bottom 3 courses information\n",
    "df[df.isin([2269050,3054822,3390724]).any(axis=1)]"
   ]
  },
  {
   "cell_type": "code",
   "execution_count": 62,
   "id": "43fa36c0",
   "metadata": {},
   "outputs": [
    {
     "data": {
      "image/png": "[encoded data removed]",
      "text/plain": [
       "<Figure size 1296x432 with 2 Axes>"
      ]
     },
     "metadata": {
      "needs_background": "light"
     },
     "output_type": "display_data"
    },
    {
     "data": {
      "text/plain": [
       "<Figure size 1000x400 with 0 Axes>"
      ]
     },
     "metadata": {},
     "output_type": "display_data"
    }
   ],
   "source": [
    "fig,axes = plt.subplots(nrows=1,ncols=2,figsize=(18,6))\n",
    "plt.figure(figsize=(5,2),dpi=200)\n",
    "ax=sns.barplot(ax=axes[0],x='id',y='num_reviews',data=df.sort_values('num_reviews', ascending=False).head(5),palette='Set2')\n",
    "ax1=sns.barplot(ax=axes[1],x='id',y='num_reviews',data=df.sort_values('num_reviews', ascending=True).head(5),palette='Set2')\n",
    "\n",
    "ax.set_yticklabels(ax.get_yticklabels(),fontsize=12)\n",
    "ax.bar_label(ax.containers[0])\n",
    "\n",
    "ax1.set_yticklabels(ax1.get_yticklabels(),fontsize=12)\n",
    "ax1.bar_label(ax1.containers[0])\n",
    "\n",
    "plt.show()"
   ]
  },
  {
   "cell_type": "markdown",
   "id": "fb30cd23",
   "metadata": {},
   "source": [
    "**Thus,id=762616(The Complete SQL Bootcamp 2020: Go from Zero..) is the most reviewed course with 78006 reviews<br>\n",
    "and id =10251,2801192,3198426,3374930,3419340 courses have least review of 3.**"
   ]
  },
  {
   "cell_type": "code",
   "execution_count": 63,
   "id": "dcf9245b",
   "metadata": {},
   "outputs": [
    {
     "data": {
      "text/html": [
       "<div>\n",
       "<style scoped>\n",
       "    .dataframe tbody tr th:only-of-type {\n",
       "        vertical-align: middle;\n",
       "    }\n",
       "\n",
       "    .dataframe tbody tr th {\n",
       "        vertical-align: top;\n",
       "    }\n",
       "\n",
       "    .dataframe thead th {\n",
       "        text-align: right;\n",
       "    }\n",
       "</style>\n",
       "<table border=\"1\" class=\"dataframe\">\n",
       "  <thead>\n",
       "    <tr style=\"text-align: right;\">\n",
       "      <th></th>\n",
       "      <th>id</th>\n",
       "      <th>title</th>\n",
       "      <th>url</th>\n",
       "      <th>num_subscribers</th>\n",
       "      <th>avg_rating</th>\n",
       "      <th>num_reviews</th>\n",
       "      <th>num_of_lectures</th>\n",
       "      <th>practice_tests</th>\n",
       "      <th>created</th>\n",
       "      <th>published_time</th>\n",
       "      <th>discount_amount</th>\n",
       "      <th>detail_amount</th>\n",
       "      <th>year</th>\n",
       "      <th>month</th>\n",
       "    </tr>\n",
       "  </thead>\n",
       "  <tbody>\n",
       "    <tr>\n",
       "      <th>0</th>\n",
       "      <td>762616</td>\n",
       "      <td>The Complete SQL Bootcamp 2020: Go from Zero t...</td>\n",
       "      <td>/course/the-complete-sql-bootcamp/</td>\n",
       "      <td>295509</td>\n",
       "      <td>4.66019</td>\n",
       "      <td>78006</td>\n",
       "      <td>84</td>\n",
       "      <td>0</td>\n",
       "      <td>2016-02-14 22:57:48+00:00</td>\n",
       "      <td>2016-04-06 05:16:11+00:00</td>\n",
       "      <td>455</td>\n",
       "      <td>8640</td>\n",
       "      <td>2016</td>\n",
       "      <td>4</td>\n",
       "    </tr>\n",
       "    <tr>\n",
       "      <th>1</th>\n",
       "      <td>937678</td>\n",
       "      <td>Tableau 2020 A-Z: Hands-On Tableau Training fo...</td>\n",
       "      <td>/course/tableau10/</td>\n",
       "      <td>209070</td>\n",
       "      <td>4.58956</td>\n",
       "      <td>54581</td>\n",
       "      <td>78</td>\n",
       "      <td>0</td>\n",
       "      <td>2016-08-22 12:10:18+00:00</td>\n",
       "      <td>2016-08-23 16:59:49+00:00</td>\n",
       "      <td>455</td>\n",
       "      <td>8640</td>\n",
       "      <td>2016</td>\n",
       "      <td>8</td>\n",
       "    </tr>\n",
       "    <tr>\n",
       "      <th>2</th>\n",
       "      <td>1361790</td>\n",
       "      <td>PMP Exam Prep Seminar -  PMBOK Guide 6</td>\n",
       "      <td>/course/pmp-pmbok6-35-pdus/</td>\n",
       "      <td>155282</td>\n",
       "      <td>4.59491</td>\n",
       "      <td>52653</td>\n",
       "      <td>292</td>\n",
       "      <td>2</td>\n",
       "      <td>2017-09-26 16:32:48+00:00</td>\n",
       "      <td>2017-11-14 23:58:14+00:00</td>\n",
       "      <td>455</td>\n",
       "      <td>8640</td>\n",
       "      <td>2017</td>\n",
       "      <td>11</td>\n",
       "    </tr>\n",
       "    <tr>\n",
       "      <th>3</th>\n",
       "      <td>648826</td>\n",
       "      <td>The Complete Financial Analyst Course 2020</td>\n",
       "      <td>/course/the-complete-financial-analyst-course/</td>\n",
       "      <td>245860</td>\n",
       "      <td>4.54407</td>\n",
       "      <td>46447</td>\n",
       "      <td>338</td>\n",
       "      <td>0</td>\n",
       "      <td>2015-10-23 13:34:35+00:00</td>\n",
       "      <td>2016-01-21 01:38:48+00:00</td>\n",
       "      <td>455</td>\n",
       "      <td>8640</td>\n",
       "      <td>2016</td>\n",
       "      <td>1</td>\n",
       "    </tr>\n",
       "    <tr>\n",
       "      <th>4</th>\n",
       "      <td>637930</td>\n",
       "      <td>An Entire MBA in 1 Course:Award Winning Busine...</td>\n",
       "      <td>/course/an-entire-mba-in-1-courseaward-winning...</td>\n",
       "      <td>374836</td>\n",
       "      <td>4.47080</td>\n",
       "      <td>41630</td>\n",
       "      <td>83</td>\n",
       "      <td>0</td>\n",
       "      <td>2015-10-12 06:39:46+00:00</td>\n",
       "      <td>2016-01-11 21:39:33+00:00</td>\n",
       "      <td>455</td>\n",
       "      <td>8640</td>\n",
       "      <td>2016</td>\n",
       "      <td>1</td>\n",
       "    </tr>\n",
       "  </tbody>\n",
       "</table>\n",
       "</div>"
      ],
      "text/plain": [
       "        id                                              title  \\\n",
       "0   762616  The Complete SQL Bootcamp 2020: Go from Zero t...   \n",
       "1   937678  Tableau 2020 A-Z: Hands-On Tableau Training fo...   \n",
       "2  1361790             PMP Exam Prep Seminar -  PMBOK Guide 6   \n",
       "3   648826         The Complete Financial Analyst Course 2020   \n",
       "4   637930  An Entire MBA in 1 Course:Award Winning Busine...   \n",
       "\n",
       "                                                 url  num_subscribers  \\\n",
       "0                 /course/the-complete-sql-bootcamp/           295509   \n",
       "1                                 /course/tableau10/           209070   \n",
       "2                        /course/pmp-pmbok6-35-pdus/           155282   \n",
       "3     /course/the-complete-financial-analyst-course/           245860   \n",
       "4  /course/an-entire-mba-in-1-courseaward-winning...           374836   \n",
       "\n",
       "   avg_rating  num_reviews  num_of_lectures  practice_tests  \\\n",
       "0     4.66019        78006               84               0   \n",
       "1     4.58956        54581               78               0   \n",
       "2     4.59491        52653              292               2   \n",
       "3     4.54407        46447              338               0   \n",
       "4     4.47080        41630               83               0   \n",
       "\n",
       "                    created            published_time  discount_amount  \\\n",
       "0 2016-02-14 22:57:48+00:00 2016-04-06 05:16:11+00:00              455   \n",
       "1 2016-08-22 12:10:18+00:00 2016-08-23 16:59:49+00:00              455   \n",
       "2 2017-09-26 16:32:48+00:00 2017-11-14 23:58:14+00:00              455   \n",
       "3 2015-10-23 13:34:35+00:00 2016-01-21 01:38:48+00:00              455   \n",
       "4 2015-10-12 06:39:46+00:00 2016-01-11 21:39:33+00:00              455   \n",
       "\n",
       "   detail_amount  year  month  \n",
       "0           8640  2016      4  \n",
       "1           8640  2016      8  \n",
       "2           8640  2017     11  \n",
       "3           8640  2016      1  \n",
       "4           8640  2016      1  "
      ]
     },
     "execution_count": 63,
     "metadata": {},
     "output_type": "execute_result"
    }
   ],
   "source": [
    "#Most reviewed courses information\n",
    "df[df.isin([762616,937678,1361790,648826,637930]).any(axis=1)]"
   ]
  },
  {
   "cell_type": "code",
   "execution_count": 64,
   "id": "16a28096",
   "metadata": {},
   "outputs": [
    {
     "data": {
      "text/html": [
       "<div>\n",
       "<style scoped>\n",
       "    .dataframe tbody tr th:only-of-type {\n",
       "        vertical-align: middle;\n",
       "    }\n",
       "\n",
       "    .dataframe tbody tr th {\n",
       "        vertical-align: top;\n",
       "    }\n",
       "\n",
       "    .dataframe thead th {\n",
       "        text-align: right;\n",
       "    }\n",
       "</style>\n",
       "<table border=\"1\" class=\"dataframe\">\n",
       "  <thead>\n",
       "    <tr style=\"text-align: right;\">\n",
       "      <th></th>\n",
       "      <th>id</th>\n",
       "      <th>title</th>\n",
       "      <th>url</th>\n",
       "      <th>num_subscribers</th>\n",
       "      <th>avg_rating</th>\n",
       "      <th>num_reviews</th>\n",
       "      <th>num_of_lectures</th>\n",
       "      <th>practice_tests</th>\n",
       "      <th>created</th>\n",
       "      <th>published_time</th>\n",
       "      <th>discount_amount</th>\n",
       "      <th>detail_amount</th>\n",
       "      <th>year</th>\n",
       "      <th>month</th>\n",
       "    </tr>\n",
       "  </thead>\n",
       "  <tbody>\n",
       "    <tr>\n",
       "      <th>9231</th>\n",
       "      <td>1982358</td>\n",
       "      <td>Management and Leadership for all levels</td>\n",
       "      <td>/course/management-and-leadership-course/</td>\n",
       "      <td>20</td>\n",
       "      <td>3.66667</td>\n",
       "      <td>3</td>\n",
       "      <td>35</td>\n",
       "      <td>0</td>\n",
       "      <td>2018-10-22 16:25:44+00:00</td>\n",
       "      <td>2018-10-24 01:10:11+00:00</td>\n",
       "      <td>455</td>\n",
       "      <td>1280</td>\n",
       "      <td>2018</td>\n",
       "      <td>10</td>\n",
       "    </tr>\n",
       "    <tr>\n",
       "      <th>9232</th>\n",
       "      <td>1540120</td>\n",
       "      <td>Introduction to Teams</td>\n",
       "      <td>/course/introduction-to-teams/</td>\n",
       "      <td>7</td>\n",
       "      <td>2.66667</td>\n",
       "      <td>3</td>\n",
       "      <td>15</td>\n",
       "      <td>0</td>\n",
       "      <td>2018-02-04 13:23:09+00:00</td>\n",
       "      <td>2018-02-07 14:15:38+00:00</td>\n",
       "      <td>455</td>\n",
       "      <td>8640</td>\n",
       "      <td>2018</td>\n",
       "      <td>2</td>\n",
       "    </tr>\n",
       "    <tr>\n",
       "      <th>9233</th>\n",
       "      <td>1780630</td>\n",
       "      <td>YouTube: Generate Passive Income With Simple R...</td>\n",
       "      <td>/course/youtube-generate-passive-income-with-s...</td>\n",
       "      <td>21</td>\n",
       "      <td>3.83333</td>\n",
       "      <td>3</td>\n",
       "      <td>12</td>\n",
       "      <td>0</td>\n",
       "      <td>2018-07-03 19:47:00+00:00</td>\n",
       "      <td>2018-07-16 21:51:23+00:00</td>\n",
       "      <td>455</td>\n",
       "      <td>1280</td>\n",
       "      <td>2018</td>\n",
       "      <td>7</td>\n",
       "    </tr>\n",
       "    <tr>\n",
       "      <th>9234</th>\n",
       "      <td>3406088</td>\n",
       "      <td>Introduction to Predictive Analytics on SAP An...</td>\n",
       "      <td>/course/introduction_to_predictive_analytics_u...</td>\n",
       "      <td>11</td>\n",
       "      <td>4.50000</td>\n",
       "      <td>3</td>\n",
       "      <td>21</td>\n",
       "      <td>0</td>\n",
       "      <td>2020-08-09 17:34:46+00:00</td>\n",
       "      <td>2020-08-23 23:36:34+00:00</td>\n",
       "      <td>455</td>\n",
       "      <td>1280</td>\n",
       "      <td>2020</td>\n",
       "      <td>8</td>\n",
       "    </tr>\n",
       "    <tr>\n",
       "      <th>9446</th>\n",
       "      <td>2801192</td>\n",
       "      <td>How to enter the US market?</td>\n",
       "      <td>/course/how-to-enter-the-us-market/</td>\n",
       "      <td>14</td>\n",
       "      <td>5.00000</td>\n",
       "      <td>3</td>\n",
       "      <td>5</td>\n",
       "      <td>0</td>\n",
       "      <td>2020-02-07 06:16:29+00:00</td>\n",
       "      <td>2020-02-11 22:10:35+00:00</td>\n",
       "      <td>455</td>\n",
       "      <td>6400</td>\n",
       "      <td>2020</td>\n",
       "      <td>2</td>\n",
       "    </tr>\n",
       "  </tbody>\n",
       "</table>\n",
       "</div>"
      ],
      "text/plain": [
       "           id                                              title  \\\n",
       "9231  1982358           Management and Leadership for all levels   \n",
       "9232  1540120                              Introduction to Teams   \n",
       "9233  1780630  YouTube: Generate Passive Income With Simple R...   \n",
       "9234  3406088  Introduction to Predictive Analytics on SAP An...   \n",
       "9446  2801192                        How to enter the US market?   \n",
       "\n",
       "                                                    url  num_subscribers  \\\n",
       "9231          /course/management-and-leadership-course/               20   \n",
       "9232                     /course/introduction-to-teams/                7   \n",
       "9233  /course/youtube-generate-passive-income-with-s...               21   \n",
       "9234  /course/introduction_to_predictive_analytics_u...               11   \n",
       "9446                /course/how-to-enter-the-us-market/               14   \n",
       "\n",
       "      avg_rating  num_reviews  num_of_lectures  practice_tests  \\\n",
       "9231     3.66667            3               35               0   \n",
       "9232     2.66667            3               15               0   \n",
       "9233     3.83333            3               12               0   \n",
       "9234     4.50000            3               21               0   \n",
       "9446     5.00000            3                5               0   \n",
       "\n",
       "                       created            published_time  discount_amount  \\\n",
       "9231 2018-10-22 16:25:44+00:00 2018-10-24 01:10:11+00:00              455   \n",
       "9232 2018-02-04 13:23:09+00:00 2018-02-07 14:15:38+00:00              455   \n",
       "9233 2018-07-03 19:47:00+00:00 2018-07-16 21:51:23+00:00              455   \n",
       "9234 2020-08-09 17:34:46+00:00 2020-08-23 23:36:34+00:00              455   \n",
       "9446 2020-02-07 06:16:29+00:00 2020-02-11 22:10:35+00:00              455   \n",
       "\n",
       "      detail_amount  year  month  \n",
       "9231           1280  2018     10  \n",
       "9232           8640  2018      2  \n",
       "9233           1280  2018      7  \n",
       "9234           1280  2020      8  \n",
       "9446           6400  2020      2  "
      ]
     },
     "execution_count": 64,
     "metadata": {},
     "output_type": "execute_result"
    }
   ],
   "source": [
    "#Least reviewed courses information\n",
    "df[df.isin([1540120,1780630,1982358,2801192,3406088]).any(axis=1)]"
   ]
  },
  {
   "cell_type": "code",
   "execution_count": 65,
   "id": "df83018a",
   "metadata": {},
   "outputs": [],
   "source": [
    "year_count = df.groupby('year').count()"
   ]
  },
  {
   "cell_type": "code",
   "execution_count": 70,
   "id": "5048c51e",
   "metadata": {},
   "outputs": [
    {
     "data": {
      "text/plain": [
       "<AxesSubplot:xlabel='year', ylabel='id'>"
      ]
     },
     "execution_count": 70,
     "metadata": {},
     "output_type": "execute_result"
    },
    {
     "data": {
      "image/png": "[encoded data removed]",
      "text/plain": [
       "<Figure size 1008x360 with 1 Axes>"
      ]
     },
     "metadata": {
      "needs_background": "light"
     },
     "output_type": "display_data"
    }
   ],
   "source": [
    "plt.figure(figsize=(14,5))\n",
    "sns.lineplot(x='year',y='id',data=year_count)"
   ]
  },
  {
   "cell_type": "markdown",
   "id": "03236e9b",
   "metadata": {},
   "source": [
    "**Number of cousre increses with every year.However a dip is found in the year 2016,2019 and 2020.<br>\n",
    "Most number of courses sold in the year 2020**\n"
   ]
  },
  {
   "cell_type": "code",
   "execution_count": 78,
   "id": "4702a6d4",
   "metadata": {},
   "outputs": [
    {
     "data": {
      "text/plain": [
       "<AxesSubplot:xlabel='discount_amount', ylabel='id'>"
      ]
     },
     "execution_count": 78,
     "metadata": {},
     "output_type": "execute_result"
    },
    {
     "data": {
      "image/png": "[encoded data removed]",
      "text/plain": [
       "<Figure size 936x576 with 1 Axes>"
      ]
     },
     "metadata": {
      "needs_background": "light"
     },
     "output_type": "display_data"
    }
   ],
   "source": [
    "plt.figure(figsize=(13,8))\n",
    "sns.scatterplot(x='discount_amount',y='id',data=df)"
   ]
  },
  {
   "cell_type": "markdown",
   "id": "bf0938fd",
   "metadata": {},
   "source": [
    "**Thus, most of the course offered discount of around 500 rupees and the max discount offered is Rs. 3200 by 36 courses.**"
   ]
  },
  {
   "cell_type": "code",
   "execution_count": 81,
   "id": "d3536115",
   "metadata": {},
   "outputs": [
    {
     "data": {
      "text/plain": [
       "<AxesSubplot:xlabel='Count', ylabel='practice_tests'>"
      ]
     },
     "execution_count": 81,
     "metadata": {},
     "output_type": "execute_result"
    },
    {
     "data": {
      "image/png": "[encoded data removed]",
      "text/plain": [
       "<Figure size 864x360 with 1 Axes>"
      ]
     },
     "metadata": {
      "needs_background": "light"
     },
     "output_type": "display_data"
    }
   ],
   "source": [
    "plt.figure(figsize=(12,5))\n",
    "sns.histplot(y='practice_tests',data=df)"
   ]
  },
  {
   "cell_type": "markdown",
   "id": "403a37dd",
   "metadata": {},
   "source": [
    "**8548 courses has zero practice tests and maximum 5 practice tests are available for 25 courses.**"
   ]
  },
  {
   "cell_type": "code",
   "execution_count": 88,
   "id": "866ec077",
   "metadata": {},
   "outputs": [
    {
     "data": {
      "image/png": "[encoded data removed]",
      "text/plain": [
       "<Figure size 1296x432 with 2 Axes>"
      ]
     },
     "metadata": {
      "needs_background": "light"
     },
     "output_type": "display_data"
    }
   ],
   "source": [
    "fig,axes = plt.subplots(1,2,figsize=(18,6))\n",
    "sns.scatterplot(ax=axes[0],data=df,x=df['avg_rating'],y=df['num_reviews'])\n",
    "sns.scatterplot(ax=axes[1],data=df,x=df['avg_rating'],y=df['num_subscribers'])\n",
    "plt.show()"
   ]
  },
  {
   "cell_type": "code",
   "execution_count": 82,
   "id": "c98c1148",
   "metadata": {},
   "outputs": [
    {
     "data": {
      "text/plain": [
       "<AxesSubplot:xlabel='num_of_lectures', ylabel='num_subscribers'>"
      ]
     },
     "execution_count": 82,
     "metadata": {},
     "output_type": "execute_result"
    },
    {
     "data": {
      "image/png": "[encoded data removed]",
      "text/plain": [
       "<Figure size 1008x432 with 1 Axes>"
      ]
     },
     "metadata": {
      "needs_background": "light"
     },
     "output_type": "display_data"
    }
   ],
   "source": [
    "plt.figure(figsize=(14,6))\n",
    "sns.scatterplot(x='num_of_lectures',y='num_subscribers',data=df)"
   ]
  },
  {
   "cell_type": "markdown",
   "id": "6d8a085f",
   "metadata": {},
   "source": [
    "**Thus,maximum 699 lectures are there in one course<br>\n",
    "and minimum 0 lectures are there in several courses**"
   ]
  },
  {
   "cell_type": "code",
   "execution_count": 83,
   "id": "3079bf2a",
   "metadata": {},
   "outputs": [],
   "source": [
    "df['perc_of_discount'] = (df['discount_amount']/df['detail_amount'])*100"
   ]
  },
  {
   "cell_type": "code",
   "execution_count": 87,
   "id": "42ffffbb",
   "metadata": {},
   "outputs": [
    {
     "data": {
      "image/png": "[encoded data removed]",
      "text/plain": [
       "<Figure size 1296x432 with 2 Axes>"
      ]
     },
     "metadata": {
      "needs_background": "light"
     },
     "output_type": "display_data"
    },
    {
     "data": {
      "text/plain": [
       "<Figure size 1440x432 with 0 Axes>"
      ]
     },
     "metadata": {},
     "output_type": "display_data"
    }
   ],
   "source": [
    "fig,axes = plt.subplots(nrows=1,ncols=2,figsize=(18,6))\n",
    "plt.figure(figsize=(20,6))\n",
    "ax=sns.barplot(ax=axes[0],y='perc_of_discount',x='id',data=df.sort_values('perc_of_discount', ascending=False).head(5),palette='Set3')\n",
    "ax1=sns.barplot(ax=axes[1],y='perc_of_discount',x='id',data=df.sort_values('perc_of_discount', ascending=True).head(5),palette='Set3')\n",
    "\n",
    "ax.set_yticklabels(ax.get_yticklabels(),fontsize=12)\n",
    "ax.bar_label(ax.containers[0])\n",
    "\n",
    "ax1.set_yticklabels(ax1.get_yticklabels(),fontsize=12)\n",
    "ax1.bar_label(ax1.containers[0])\n",
    "\n",
    "\n",
    "plt.show()"
   ]
  },
  {
   "cell_type": "markdown",
   "id": "7b901d09",
   "metadata": {},
   "source": [
    "**Thus course having id = 572570,863588,1497138,2257848,2713046 etc having maximum discount of around 55%<br>\n",
    "and course having id = 369660,375380,383708,932244,1346444 etc having minimum discount of 5%.**"
   ]
  },
  {
   "cell_type": "code",
   "execution_count": null,
   "id": "d71c0060",
   "metadata": {},
   "outputs": [],
   "source": []
  }
 ],
 "metadata": {
  "kernelspec": {
   "display_name": "Python 3 (ipykernel)",
   "language": "python",
   "name": "python3"
  },
  "language_info": {
   "codemirror_mode": {
    "name": "ipython",
    "version": 3
   },
   "file_extension": ".py",
   "mimetype": "text/x-python",
   "name": "python",
   "nbconvert_exporter": "python",
   "pygments_lexer": "ipython3",
   "version": "3.9.12"
  }
 },
 "nbformat": 4,
 "nbformat_minor": 5
}
