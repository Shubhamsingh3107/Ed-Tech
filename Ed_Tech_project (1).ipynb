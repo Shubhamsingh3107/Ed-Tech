{
 "cells": [
  {
   "cell_type": "code",
   "execution_count": 1,
   "metadata": {
    "executionInfo": {
     "elapsed": 12,
     "status": "ok",
     "timestamp": 1664628247141,
     "user": {
      "displayName": "shubhanshu kanungo",
      "userId": "17740872798386647060"
     },
     "user_tz": -330
    },
    "id": "ygi_MWDSYyie"
   },
   "outputs": [],
   "source": [
    "# importing necessary libraries\n",
    "import numpy as np\n",
    "import pandas as pd\n",
    "import matplotlib.pyplot as plt\n",
    "import seaborn as sns\n",
    "import datetime as dt\n",
    "import warnings\n",
    "warnings.filterwarnings(\"ignore\")"
   ]
  },
  {
   "cell_type": "code",
   "execution_count": 2,
   "metadata": {
    "executionInfo": {
     "elapsed": 11,
     "status": "ok",
     "timestamp": 1664628248791,
     "user": {
      "displayName": "shubhanshu kanungo",
      "userId": "17740872798386647060"
     },
     "user_tz": -330
    },
    "id": "Psedm9GxZct7"
   },
   "outputs": [],
   "source": [
    "# load dataset\n",
    "df = pd.read_csv('C:\\\\Users\\\\hp\\\\OneDrive\\\\Desktop\\\\Edtech Capstone Project BI\\\\online_All_Business_p1_p626.csv')"
   ]
  },
  {
   "cell_type": "code",
   "execution_count": 3,
   "metadata": {
    "colab": {
     "base_uri": "https://localhost:8080/",
     "height": 384
    },
    "executionInfo": {
     "elapsed": 43,
     "status": "ok",
     "timestamp": 1664624794818,
     "user": {
      "displayName": "shubhanshu kanungo",
      "userId": "17740872798386647060"
     },
     "user_tz": -330
    },
    "id": "1F9Np4EMbqcL",
    "outputId": "0bd2528e-b320-4aaf-a6bc-516df27ea583"
   },
   "outputs": [
    {
     "data": {
      "text/html": [
       "<div>\n",
       "<style scoped>\n",
       "    .dataframe tbody tr th:only-of-type {\n",
       "        vertical-align: middle;\n",
       "    }\n",
       "\n",
       "    .dataframe tbody tr th {\n",
       "        vertical-align: top;\n",
       "    }\n",
       "\n",
       "    .dataframe thead th {\n",
       "        text-align: right;\n",
       "    }\n",
       "</style>\n",
       "<table border=\"1\" class=\"dataframe\">\n",
       "  <thead>\n",
       "    <tr style=\"text-align: right;\">\n",
       "      <th></th>\n",
       "      <th>id</th>\n",
       "      <th>title</th>\n",
       "      <th>url</th>\n",
       "      <th>is_paid</th>\n",
       "      <th>num_subscribers</th>\n",
       "      <th>avg_rating</th>\n",
       "      <th>avg_rating_recent</th>\n",
       "      <th>rating</th>\n",
       "      <th>num_reviews</th>\n",
       "      <th>is_wishlisted</th>\n",
       "      <th>num_published_lectures</th>\n",
       "      <th>num_published_practice_tests</th>\n",
       "      <th>created</th>\n",
       "      <th>published_time</th>\n",
       "      <th>discount_price__amount</th>\n",
       "      <th>discount_price__currency</th>\n",
       "      <th>discount_price__price_string</th>\n",
       "      <th>price_detail__amount</th>\n",
       "      <th>price_detail__currency</th>\n",
       "      <th>price_detail__price_string</th>\n",
       "    </tr>\n",
       "  </thead>\n",
       "  <tbody>\n",
       "    <tr>\n",
       "      <th>0</th>\n",
       "      <td>762616</td>\n",
       "      <td>The Complete SQL Bootcamp 2020: Go from Zero t...</td>\n",
       "      <td>/course/the-complete-sql-bootcamp/</td>\n",
       "      <td>True</td>\n",
       "      <td>295509</td>\n",
       "      <td>4.66019</td>\n",
       "      <td>4.67874</td>\n",
       "      <td>4.67874</td>\n",
       "      <td>78006</td>\n",
       "      <td>False</td>\n",
       "      <td>84</td>\n",
       "      <td>0</td>\n",
       "      <td>2016-02-14T22:57:48Z</td>\n",
       "      <td>2016-04-06T05:16:11Z</td>\n",
       "      <td>455.0</td>\n",
       "      <td>INR</td>\n",
       "      <td>₹455</td>\n",
       "      <td>8640</td>\n",
       "      <td>INR</td>\n",
       "      <td>₹8,640</td>\n",
       "    </tr>\n",
       "    <tr>\n",
       "      <th>1</th>\n",
       "      <td>937678</td>\n",
       "      <td>Tableau 2020 A-Z: Hands-On Tableau Training fo...</td>\n",
       "      <td>/course/tableau10/</td>\n",
       "      <td>True</td>\n",
       "      <td>209070</td>\n",
       "      <td>4.58956</td>\n",
       "      <td>4.60015</td>\n",
       "      <td>4.60015</td>\n",
       "      <td>54581</td>\n",
       "      <td>False</td>\n",
       "      <td>78</td>\n",
       "      <td>0</td>\n",
       "      <td>2016-08-22T12:10:18Z</td>\n",
       "      <td>2016-08-23T16:59:49Z</td>\n",
       "      <td>455.0</td>\n",
       "      <td>INR</td>\n",
       "      <td>₹455</td>\n",
       "      <td>8640</td>\n",
       "      <td>INR</td>\n",
       "      <td>₹8,640</td>\n",
       "    </tr>\n",
       "  </tbody>\n",
       "</table>\n",
       "</div>"
      ],
      "text/plain": [
       "       id                                              title  \\\n",
       "0  762616  The Complete SQL Bootcamp 2020: Go from Zero t...   \n",
       "1  937678  Tableau 2020 A-Z: Hands-On Tableau Training fo...   \n",
       "\n",
       "                                  url  is_paid  num_subscribers  avg_rating  \\\n",
       "0  /course/the-complete-sql-bootcamp/     True           295509     4.66019   \n",
       "1                  /course/tableau10/     True           209070     4.58956   \n",
       "\n",
       "   avg_rating_recent   rating  num_reviews  is_wishlisted  \\\n",
       "0            4.67874  4.67874        78006          False   \n",
       "1            4.60015  4.60015        54581          False   \n",
       "\n",
       "   num_published_lectures  num_published_practice_tests               created  \\\n",
       "0                      84                             0  2016-02-14T22:57:48Z   \n",
       "1                      78                             0  2016-08-22T12:10:18Z   \n",
       "\n",
       "         published_time  discount_price__amount discount_price__currency  \\\n",
       "0  2016-04-06T05:16:11Z                   455.0                      INR   \n",
       "1  2016-08-23T16:59:49Z                   455.0                      INR   \n",
       "\n",
       "  discount_price__price_string  price_detail__amount price_detail__currency  \\\n",
       "0                         ₹455                  8640                    INR   \n",
       "1                         ₹455                  8640                    INR   \n",
       "\n",
       "  price_detail__price_string  \n",
       "0                     ₹8,640  \n",
       "1                     ₹8,640  "
      ]
     },
     "execution_count": 3,
     "metadata": {},
     "output_type": "execute_result"
    }
   ],
   "source": [
    "df.head(2)"
   ]
  },
  {
   "cell_type": "code",
   "execution_count": 4,
   "metadata": {
    "colab": {
     "base_uri": "https://localhost:8080/"
    },
    "executionInfo": {
     "elapsed": 42,
     "status": "ok",
     "timestamp": 1664624794821,
     "user": {
      "displayName": "shubhanshu kanungo",
      "userId": "17740872798386647060"
     },
     "user_tz": -330
    },
    "id": "w9olzVTxaYDg",
    "outputId": "41ab7887-9c9e-47f5-9ee8-ac71640501c3"
   },
   "outputs": [
    {
     "name": "stdout",
     "output_type": "stream",
     "text": [
      "<class 'pandas.core.frame.DataFrame'>\n",
      "RangeIndex: 9447 entries, 0 to 9446\n",
      "Data columns (total 20 columns):\n",
      " #   Column                        Non-Null Count  Dtype  \n",
      "---  ------                        --------------  -----  \n",
      " 0   id                            9447 non-null   int64  \n",
      " 1   title                         9447 non-null   object \n",
      " 2   url                           9447 non-null   object \n",
      " 3   is_paid                       9447 non-null   bool   \n",
      " 4   num_subscribers               9447 non-null   int64  \n",
      " 5   avg_rating                    9447 non-null   float64\n",
      " 6   avg_rating_recent             9447 non-null   float64\n",
      " 7   rating                        9447 non-null   float64\n",
      " 8   num_reviews                   9447 non-null   int64  \n",
      " 9   is_wishlisted                 9447 non-null   bool   \n",
      " 10  num_published_lectures        9447 non-null   int64  \n",
      " 11  num_published_practice_tests  9447 non-null   int64  \n",
      " 12  created                       9447 non-null   object \n",
      " 13  published_time                9447 non-null   object \n",
      " 14  discount_price__amount        8937 non-null   float64\n",
      " 15  discount_price__currency      8937 non-null   object \n",
      " 16  discount_price__price_string  8937 non-null   object \n",
      " 17  price_detail__amount          9447 non-null   int64  \n",
      " 18  price_detail__currency        9447 non-null   object \n",
      " 19  price_detail__price_string    9447 non-null   object \n",
      "dtypes: bool(2), float64(4), int64(6), object(8)\n",
      "memory usage: 1.3+ MB\n"
     ]
    }
   ],
   "source": [
    "df.info()"
   ]
  },
  {
   "cell_type": "markdown",
   "metadata": {
    "id": "4hmqsHWLo7Rw"
   },
   "source": [
    "3 columns with null values"
   ]
  },
  {
   "cell_type": "code",
   "execution_count": 5,
   "metadata": {
    "colab": {
     "base_uri": "https://localhost:8080/",
     "height": 363
    },
    "executionInfo": {
     "elapsed": 635,
     "status": "ok",
     "timestamp": 1664624795427,
     "user": {
      "displayName": "shubhanshu kanungo",
      "userId": "17740872798386647060"
     },
     "user_tz": -330
    },
    "id": "_9E4iS1fa7aP",
    "outputId": "40fd4f2f-38f3-4624-c9ae-e0e51d0848a8"
   },
   "outputs": [
    {
     "data": {
      "text/html": [
       "<div>\n",
       "<style scoped>\n",
       "    .dataframe tbody tr th:only-of-type {\n",
       "        vertical-align: middle;\n",
       "    }\n",
       "\n",
       "    .dataframe tbody tr th {\n",
       "        vertical-align: top;\n",
       "    }\n",
       "\n",
       "    .dataframe thead th {\n",
       "        text-align: right;\n",
       "    }\n",
       "</style>\n",
       "<table border=\"1\" class=\"dataframe\">\n",
       "  <thead>\n",
       "    <tr style=\"text-align: right;\">\n",
       "      <th></th>\n",
       "      <th>count</th>\n",
       "      <th>mean</th>\n",
       "      <th>std</th>\n",
       "      <th>min</th>\n",
       "      <th>25%</th>\n",
       "      <th>50%</th>\n",
       "      <th>75%</th>\n",
       "      <th>max</th>\n",
       "    </tr>\n",
       "  </thead>\n",
       "  <tbody>\n",
       "    <tr>\n",
       "      <th>id</th>\n",
       "      <td>9447.0</td>\n",
       "      <td>1.456603e+06</td>\n",
       "      <td>895660.094130</td>\n",
       "      <td>2762.0</td>\n",
       "      <td>673031.00000</td>\n",
       "      <td>1.381806e+06</td>\n",
       "      <td>2.154793e+06</td>\n",
       "      <td>3469452.0</td>\n",
       "    </tr>\n",
       "    <tr>\n",
       "      <th>num_subscribers</th>\n",
       "      <td>9447.0</td>\n",
       "      <td>3.399298e+03</td>\n",
       "      <td>10451.534122</td>\n",
       "      <td>3.0</td>\n",
       "      <td>141.00000</td>\n",
       "      <td>9.160000e+02</td>\n",
       "      <td>2.889500e+03</td>\n",
       "      <td>374836.0</td>\n",
       "    </tr>\n",
       "    <tr>\n",
       "      <th>avg_rating</th>\n",
       "      <td>9447.0</td>\n",
       "      <td>4.138522e+00</td>\n",
       "      <td>0.453581</td>\n",
       "      <td>1.0</td>\n",
       "      <td>3.90000</td>\n",
       "      <td>4.200000e+00</td>\n",
       "      <td>4.450000e+00</td>\n",
       "      <td>5.0</td>\n",
       "    </tr>\n",
       "    <tr>\n",
       "      <th>avg_rating_recent</th>\n",
       "      <td>9447.0</td>\n",
       "      <td>4.124756e+00</td>\n",
       "      <td>0.478410</td>\n",
       "      <td>1.0</td>\n",
       "      <td>3.87941</td>\n",
       "      <td>4.206080e+00</td>\n",
       "      <td>4.447495e+00</td>\n",
       "      <td>5.0</td>\n",
       "    </tr>\n",
       "    <tr>\n",
       "      <th>rating</th>\n",
       "      <td>9447.0</td>\n",
       "      <td>4.124756e+00</td>\n",
       "      <td>0.478410</td>\n",
       "      <td>1.0</td>\n",
       "      <td>3.87941</td>\n",
       "      <td>4.206080e+00</td>\n",
       "      <td>4.447495e+00</td>\n",
       "      <td>5.0</td>\n",
       "    </tr>\n",
       "    <tr>\n",
       "      <th>num_reviews</th>\n",
       "      <td>9447.0</td>\n",
       "      <td>2.990545e+02</td>\n",
       "      <td>1826.867472</td>\n",
       "      <td>3.0</td>\n",
       "      <td>12.00000</td>\n",
       "      <td>3.300000e+01</td>\n",
       "      <td>1.100000e+02</td>\n",
       "      <td>78006.0</td>\n",
       "    </tr>\n",
       "    <tr>\n",
       "      <th>num_published_lectures</th>\n",
       "      <td>9447.0</td>\n",
       "      <td>3.440087e+01</td>\n",
       "      <td>46.061088</td>\n",
       "      <td>0.0</td>\n",
       "      <td>13.00000</td>\n",
       "      <td>2.300000e+01</td>\n",
       "      <td>3.900000e+01</td>\n",
       "      <td>699.0</td>\n",
       "    </tr>\n",
       "    <tr>\n",
       "      <th>num_published_practice_tests</th>\n",
       "      <td>9447.0</td>\n",
       "      <td>1.018313e-01</td>\n",
       "      <td>0.580037</td>\n",
       "      <td>0.0</td>\n",
       "      <td>0.00000</td>\n",
       "      <td>0.000000e+00</td>\n",
       "      <td>0.000000e+00</td>\n",
       "      <td>6.0</td>\n",
       "    </tr>\n",
       "    <tr>\n",
       "      <th>discount_price__amount</th>\n",
       "      <td>8937.0</td>\n",
       "      <td>4.889841e+02</td>\n",
       "      <td>247.833161</td>\n",
       "      <td>455.0</td>\n",
       "      <td>455.00000</td>\n",
       "      <td>4.550000e+02</td>\n",
       "      <td>4.550000e+02</td>\n",
       "      <td>3200.0</td>\n",
       "    </tr>\n",
       "    <tr>\n",
       "      <th>price_detail__amount</th>\n",
       "      <td>9447.0</td>\n",
       "      <td>4.828758e+03</td>\n",
       "      <td>3108.307674</td>\n",
       "      <td>1280.0</td>\n",
       "      <td>1600.00000</td>\n",
       "      <td>3.840000e+03</td>\n",
       "      <td>8.640000e+03</td>\n",
       "      <td>12800.0</td>\n",
       "    </tr>\n",
       "  </tbody>\n",
       "</table>\n",
       "</div>"
      ],
      "text/plain": [
       "                               count          mean            std     min  \\\n",
       "id                            9447.0  1.456603e+06  895660.094130  2762.0   \n",
       "num_subscribers               9447.0  3.399298e+03   10451.534122     3.0   \n",
       "avg_rating                    9447.0  4.138522e+00       0.453581     1.0   \n",
       "avg_rating_recent             9447.0  4.124756e+00       0.478410     1.0   \n",
       "rating                        9447.0  4.124756e+00       0.478410     1.0   \n",
       "num_reviews                   9447.0  2.990545e+02    1826.867472     3.0   \n",
       "num_published_lectures        9447.0  3.440087e+01      46.061088     0.0   \n",
       "num_published_practice_tests  9447.0  1.018313e-01       0.580037     0.0   \n",
       "discount_price__amount        8937.0  4.889841e+02     247.833161   455.0   \n",
       "price_detail__amount          9447.0  4.828758e+03    3108.307674  1280.0   \n",
       "\n",
       "                                       25%           50%           75%  \\\n",
       "id                            673031.00000  1.381806e+06  2.154793e+06   \n",
       "num_subscribers                  141.00000  9.160000e+02  2.889500e+03   \n",
       "avg_rating                         3.90000  4.200000e+00  4.450000e+00   \n",
       "avg_rating_recent                  3.87941  4.206080e+00  4.447495e+00   \n",
       "rating                             3.87941  4.206080e+00  4.447495e+00   \n",
       "num_reviews                       12.00000  3.300000e+01  1.100000e+02   \n",
       "num_published_lectures            13.00000  2.300000e+01  3.900000e+01   \n",
       "num_published_practice_tests       0.00000  0.000000e+00  0.000000e+00   \n",
       "discount_price__amount           455.00000  4.550000e+02  4.550000e+02   \n",
       "price_detail__amount            1600.00000  3.840000e+03  8.640000e+03   \n",
       "\n",
       "                                    max  \n",
       "id                            3469452.0  \n",
       "num_subscribers                374836.0  \n",
       "avg_rating                          5.0  \n",
       "avg_rating_recent                   5.0  \n",
       "rating                              5.0  \n",
       "num_reviews                     78006.0  \n",
       "num_published_lectures            699.0  \n",
       "num_published_practice_tests        6.0  \n",
       "discount_price__amount           3200.0  \n",
       "price_detail__amount            12800.0  "
      ]
     },
     "execution_count": 5,
     "metadata": {},
     "output_type": "execute_result"
    }
   ],
   "source": [
    "df.describe().transpose()"
   ]
  },
  {
   "cell_type": "code",
   "execution_count": 6,
   "metadata": {
    "colab": {
     "base_uri": "https://localhost:8080/"
    },
    "executionInfo": {
     "elapsed": 128,
     "status": "ok",
     "timestamp": 1664624795428,
     "user": {
      "displayName": "shubhanshu kanungo",
      "userId": "17740872798386647060"
     },
     "user_tz": -330
    },
    "id": "0o2hZfWbeP0V",
    "outputId": "d5670f65-e959-4b18-f9c4-3f29bb0f7a74"
   },
   "outputs": [
    {
     "data": {
      "text/plain": [
       "INR    9447\n",
       "Name: price_detail__currency, dtype: int64"
      ]
     },
     "execution_count": 6,
     "metadata": {},
     "output_type": "execute_result"
    }
   ],
   "source": [
    "# check for unique values in non-relevant columns\n",
    "df['price_detail__currency'].value_counts()"
   ]
  },
  {
   "cell_type": "code",
   "execution_count": 7,
   "metadata": {
    "colab": {
     "base_uri": "https://localhost:8080/"
    },
    "executionInfo": {
     "elapsed": 554,
     "status": "ok",
     "timestamp": 1664629583983,
     "user": {
      "displayName": "shubhanshu kanungo",
      "userId": "17740872798386647060"
     },
     "user_tz": -330
    },
    "id": "lvwT0rXIgiyw",
    "outputId": "f9d5abd2-c03d-442a-9541-e6b6b8477ae2"
   },
   "outputs": [
    {
     "data": {
      "text/plain": [
       "INR    8937\n",
       "Name: discount_price__currency, dtype: int64"
      ]
     },
     "execution_count": 7,
     "metadata": {},
     "output_type": "execute_result"
    }
   ],
   "source": [
    "df['discount_price__currency'].value_counts()"
   ]
  },
  {
   "cell_type": "code",
   "execution_count": 8,
   "metadata": {
    "colab": {
     "base_uri": "https://localhost:8080/"
    },
    "executionInfo": {
     "elapsed": 715,
     "status": "ok",
     "timestamp": 1664629579688,
     "user": {
      "displayName": "shubhanshu kanungo",
      "userId": "17740872798386647060"
     },
     "user_tz": -330
    },
    "id": "Yzgx7mSRpt4t",
    "outputId": "e5b71552-cea1-49d3-99c4-30ace11f623a"
   },
   "outputs": [
    {
     "data": {
      "text/plain": [
       "True    9447\n",
       "Name: is_paid, dtype: int64"
      ]
     },
     "execution_count": 8,
     "metadata": {},
     "output_type": "execute_result"
    }
   ],
   "source": [
    "df['is_paid'].value_counts()"
   ]
  },
  {
   "cell_type": "code",
   "execution_count": 37,
   "metadata": {
    "colab": {
     "base_uri": "https://localhost:8080/"
    },
    "executionInfo": {
     "elapsed": 9,
     "status": "ok",
     "timestamp": 1664629580379,
     "user": {
      "displayName": "shubhanshu kanungo",
      "userId": "17740872798386647060"
     },
     "user_tz": -330
    },
    "id": "FqZ0LEgZpvGY",
    "outputId": "e7f22bf5-1cd6-4456-b207-69ca4bfcb7ac"
   },
   "outputs": [
    {
     "data": {
      "text/plain": [
       "False    8937\n",
       "Name: is_wishlisted, dtype: int64"
      ]
     },
     "execution_count": 37,
     "metadata": {},
     "output_type": "execute_result"
    }
   ],
   "source": [
    "df['is_wishlisted'].value_counts()"
   ]
  },
  {
   "cell_type": "markdown",
   "metadata": {
    "id": "d_iRpZshwyMW"
   },
   "source": [
    "**There is only one type of currency so its not important for us.**"
   ]
  },
  {
   "cell_type": "code",
   "execution_count": 38,
   "metadata": {
    "executionInfo": {
     "elapsed": 114,
     "status": "ok",
     "timestamp": 1664624795431,
     "user": {
      "displayName": "shubhanshu kanungo",
      "userId": "17740872798386647060"
     },
     "user_tz": -330
    },
    "id": "8V4yB-LYe0sR"
   },
   "outputs": [
    {
     "ename": "KeyError",
     "evalue": "\"['price_detail__currency', 'discount_price__currency', 'discount_price__price_string', 'price_detail__price_string', 'rating'] not found in axis\"",
     "output_type": "error",
     "traceback": [
      "\u001b[1;31m---------------------------------------------------------------------------\u001b[0m",
      "\u001b[1;31mKeyError\u001b[0m                                  Traceback (most recent call last)",
      "Input \u001b[1;32mIn [38]\u001b[0m, in \u001b[0;36m<cell line: 3>\u001b[1;34m()\u001b[0m\n\u001b[0;32m      1\u001b[0m \u001b[38;5;66;03m# drop unnecessary columns\u001b[39;00m\n\u001b[1;32m----> 3\u001b[0m \u001b[43mdf\u001b[49m\u001b[38;5;241;43m.\u001b[39;49m\u001b[43mdrop\u001b[49m\u001b[43m(\u001b[49m\u001b[43m[\u001b[49m\u001b[38;5;124;43m'\u001b[39;49m\u001b[38;5;124;43mprice_detail__currency\u001b[39;49m\u001b[38;5;124;43m'\u001b[39;49m\u001b[43m,\u001b[49m\u001b[38;5;124;43m'\u001b[39;49m\u001b[38;5;124;43mdiscount_price__currency\u001b[39;49m\u001b[38;5;124;43m'\u001b[39;49m\u001b[43m,\u001b[49m\u001b[38;5;124;43m'\u001b[39;49m\u001b[38;5;124;43mdiscount_price__price_string\u001b[39;49m\u001b[38;5;124;43m'\u001b[39;49m\u001b[43m,\u001b[49m\u001b[38;5;124;43m'\u001b[39;49m\u001b[38;5;124;43mprice_detail__price_string\u001b[39;49m\u001b[38;5;124;43m'\u001b[39;49m\u001b[43m,\u001b[49m\u001b[38;5;124;43m'\u001b[39;49m\u001b[38;5;124;43mrating\u001b[39;49m\u001b[38;5;124;43m'\u001b[39;49m\u001b[43m]\u001b[49m\u001b[43m,\u001b[49m\u001b[43maxis\u001b[49m\u001b[38;5;241;43m=\u001b[39;49m\u001b[38;5;241;43m1\u001b[39;49m\u001b[43m,\u001b[49m\u001b[43minplace\u001b[49m\u001b[38;5;241;43m=\u001b[39;49m\u001b[38;5;28;43;01mTrue\u001b[39;49;00m\u001b[43m)\u001b[49m\n",
      "File \u001b[1;32m~\\anaconda3\\lib\\site-packages\\pandas\\util\\_decorators.py:311\u001b[0m, in \u001b[0;36mdeprecate_nonkeyword_arguments.<locals>.decorate.<locals>.wrapper\u001b[1;34m(*args, **kwargs)\u001b[0m\n\u001b[0;32m    305\u001b[0m \u001b[38;5;28;01mif\u001b[39;00m \u001b[38;5;28mlen\u001b[39m(args) \u001b[38;5;241m>\u001b[39m num_allow_args:\n\u001b[0;32m    306\u001b[0m     warnings\u001b[38;5;241m.\u001b[39mwarn(\n\u001b[0;32m    307\u001b[0m         msg\u001b[38;5;241m.\u001b[39mformat(arguments\u001b[38;5;241m=\u001b[39marguments),\n\u001b[0;32m    308\u001b[0m         \u001b[38;5;167;01mFutureWarning\u001b[39;00m,\n\u001b[0;32m    309\u001b[0m         stacklevel\u001b[38;5;241m=\u001b[39mstacklevel,\n\u001b[0;32m    310\u001b[0m     )\n\u001b[1;32m--> 311\u001b[0m \u001b[38;5;28;01mreturn\u001b[39;00m func(\u001b[38;5;241m*\u001b[39margs, \u001b[38;5;241m*\u001b[39m\u001b[38;5;241m*\u001b[39mkwargs)\n",
      "File \u001b[1;32m~\\anaconda3\\lib\\site-packages\\pandas\\core\\frame.py:4954\u001b[0m, in \u001b[0;36mDataFrame.drop\u001b[1;34m(self, labels, axis, index, columns, level, inplace, errors)\u001b[0m\n\u001b[0;32m   4806\u001b[0m \u001b[38;5;129m@deprecate_nonkeyword_arguments\u001b[39m(version\u001b[38;5;241m=\u001b[39m\u001b[38;5;28;01mNone\u001b[39;00m, allowed_args\u001b[38;5;241m=\u001b[39m[\u001b[38;5;124m\"\u001b[39m\u001b[38;5;124mself\u001b[39m\u001b[38;5;124m\"\u001b[39m, \u001b[38;5;124m\"\u001b[39m\u001b[38;5;124mlabels\u001b[39m\u001b[38;5;124m\"\u001b[39m])\n\u001b[0;32m   4807\u001b[0m \u001b[38;5;28;01mdef\u001b[39;00m \u001b[38;5;21mdrop\u001b[39m(\n\u001b[0;32m   4808\u001b[0m     \u001b[38;5;28mself\u001b[39m,\n\u001b[1;32m   (...)\u001b[0m\n\u001b[0;32m   4815\u001b[0m     errors: \u001b[38;5;28mstr\u001b[39m \u001b[38;5;241m=\u001b[39m \u001b[38;5;124m\"\u001b[39m\u001b[38;5;124mraise\u001b[39m\u001b[38;5;124m\"\u001b[39m,\n\u001b[0;32m   4816\u001b[0m ):\n\u001b[0;32m   4817\u001b[0m     \u001b[38;5;124;03m\"\"\"\u001b[39;00m\n\u001b[0;32m   4818\u001b[0m \u001b[38;5;124;03m    Drop specified labels from rows or columns.\u001b[39;00m\n\u001b[0;32m   4819\u001b[0m \n\u001b[1;32m   (...)\u001b[0m\n\u001b[0;32m   4952\u001b[0m \u001b[38;5;124;03m            weight  1.0     0.8\u001b[39;00m\n\u001b[0;32m   4953\u001b[0m \u001b[38;5;124;03m    \"\"\"\u001b[39;00m\n\u001b[1;32m-> 4954\u001b[0m     \u001b[38;5;28;01mreturn\u001b[39;00m \u001b[38;5;28;43msuper\u001b[39;49m\u001b[43m(\u001b[49m\u001b[43m)\u001b[49m\u001b[38;5;241;43m.\u001b[39;49m\u001b[43mdrop\u001b[49m\u001b[43m(\u001b[49m\n\u001b[0;32m   4955\u001b[0m \u001b[43m        \u001b[49m\u001b[43mlabels\u001b[49m\u001b[38;5;241;43m=\u001b[39;49m\u001b[43mlabels\u001b[49m\u001b[43m,\u001b[49m\n\u001b[0;32m   4956\u001b[0m \u001b[43m        \u001b[49m\u001b[43maxis\u001b[49m\u001b[38;5;241;43m=\u001b[39;49m\u001b[43maxis\u001b[49m\u001b[43m,\u001b[49m\n\u001b[0;32m   4957\u001b[0m \u001b[43m        \u001b[49m\u001b[43mindex\u001b[49m\u001b[38;5;241;43m=\u001b[39;49m\u001b[43mindex\u001b[49m\u001b[43m,\u001b[49m\n\u001b[0;32m   4958\u001b[0m \u001b[43m        \u001b[49m\u001b[43mcolumns\u001b[49m\u001b[38;5;241;43m=\u001b[39;49m\u001b[43mcolumns\u001b[49m\u001b[43m,\u001b[49m\n\u001b[0;32m   4959\u001b[0m \u001b[43m        \u001b[49m\u001b[43mlevel\u001b[49m\u001b[38;5;241;43m=\u001b[39;49m\u001b[43mlevel\u001b[49m\u001b[43m,\u001b[49m\n\u001b[0;32m   4960\u001b[0m \u001b[43m        \u001b[49m\u001b[43minplace\u001b[49m\u001b[38;5;241;43m=\u001b[39;49m\u001b[43minplace\u001b[49m\u001b[43m,\u001b[49m\n\u001b[0;32m   4961\u001b[0m \u001b[43m        \u001b[49m\u001b[43merrors\u001b[49m\u001b[38;5;241;43m=\u001b[39;49m\u001b[43merrors\u001b[49m\u001b[43m,\u001b[49m\n\u001b[0;32m   4962\u001b[0m \u001b[43m    \u001b[49m\u001b[43m)\u001b[49m\n",
      "File \u001b[1;32m~\\anaconda3\\lib\\site-packages\\pandas\\core\\generic.py:4267\u001b[0m, in \u001b[0;36mNDFrame.drop\u001b[1;34m(self, labels, axis, index, columns, level, inplace, errors)\u001b[0m\n\u001b[0;32m   4265\u001b[0m \u001b[38;5;28;01mfor\u001b[39;00m axis, labels \u001b[38;5;129;01min\u001b[39;00m axes\u001b[38;5;241m.\u001b[39mitems():\n\u001b[0;32m   4266\u001b[0m     \u001b[38;5;28;01mif\u001b[39;00m labels \u001b[38;5;129;01mis\u001b[39;00m \u001b[38;5;129;01mnot\u001b[39;00m \u001b[38;5;28;01mNone\u001b[39;00m:\n\u001b[1;32m-> 4267\u001b[0m         obj \u001b[38;5;241m=\u001b[39m \u001b[43mobj\u001b[49m\u001b[38;5;241;43m.\u001b[39;49m\u001b[43m_drop_axis\u001b[49m\u001b[43m(\u001b[49m\u001b[43mlabels\u001b[49m\u001b[43m,\u001b[49m\u001b[43m \u001b[49m\u001b[43maxis\u001b[49m\u001b[43m,\u001b[49m\u001b[43m \u001b[49m\u001b[43mlevel\u001b[49m\u001b[38;5;241;43m=\u001b[39;49m\u001b[43mlevel\u001b[49m\u001b[43m,\u001b[49m\u001b[43m \u001b[49m\u001b[43merrors\u001b[49m\u001b[38;5;241;43m=\u001b[39;49m\u001b[43merrors\u001b[49m\u001b[43m)\u001b[49m\n\u001b[0;32m   4269\u001b[0m \u001b[38;5;28;01mif\u001b[39;00m inplace:\n\u001b[0;32m   4270\u001b[0m     \u001b[38;5;28mself\u001b[39m\u001b[38;5;241m.\u001b[39m_update_inplace(obj)\n",
      "File \u001b[1;32m~\\anaconda3\\lib\\site-packages\\pandas\\core\\generic.py:4311\u001b[0m, in \u001b[0;36mNDFrame._drop_axis\u001b[1;34m(self, labels, axis, level, errors, consolidate, only_slice)\u001b[0m\n\u001b[0;32m   4309\u001b[0m         new_axis \u001b[38;5;241m=\u001b[39m axis\u001b[38;5;241m.\u001b[39mdrop(labels, level\u001b[38;5;241m=\u001b[39mlevel, errors\u001b[38;5;241m=\u001b[39merrors)\n\u001b[0;32m   4310\u001b[0m     \u001b[38;5;28;01melse\u001b[39;00m:\n\u001b[1;32m-> 4311\u001b[0m         new_axis \u001b[38;5;241m=\u001b[39m \u001b[43maxis\u001b[49m\u001b[38;5;241;43m.\u001b[39;49m\u001b[43mdrop\u001b[49m\u001b[43m(\u001b[49m\u001b[43mlabels\u001b[49m\u001b[43m,\u001b[49m\u001b[43m \u001b[49m\u001b[43merrors\u001b[49m\u001b[38;5;241;43m=\u001b[39;49m\u001b[43merrors\u001b[49m\u001b[43m)\u001b[49m\n\u001b[0;32m   4312\u001b[0m     indexer \u001b[38;5;241m=\u001b[39m axis\u001b[38;5;241m.\u001b[39mget_indexer(new_axis)\n\u001b[0;32m   4314\u001b[0m \u001b[38;5;66;03m# Case for non-unique axis\u001b[39;00m\n\u001b[0;32m   4315\u001b[0m \u001b[38;5;28;01melse\u001b[39;00m:\n",
      "File \u001b[1;32m~\\anaconda3\\lib\\site-packages\\pandas\\core\\indexes\\base.py:6644\u001b[0m, in \u001b[0;36mIndex.drop\u001b[1;34m(self, labels, errors)\u001b[0m\n\u001b[0;32m   6642\u001b[0m \u001b[38;5;28;01mif\u001b[39;00m mask\u001b[38;5;241m.\u001b[39many():\n\u001b[0;32m   6643\u001b[0m     \u001b[38;5;28;01mif\u001b[39;00m errors \u001b[38;5;241m!=\u001b[39m \u001b[38;5;124m\"\u001b[39m\u001b[38;5;124mignore\u001b[39m\u001b[38;5;124m\"\u001b[39m:\n\u001b[1;32m-> 6644\u001b[0m         \u001b[38;5;28;01mraise\u001b[39;00m \u001b[38;5;167;01mKeyError\u001b[39;00m(\u001b[38;5;124mf\u001b[39m\u001b[38;5;124m\"\u001b[39m\u001b[38;5;132;01m{\u001b[39;00m\u001b[38;5;28mlist\u001b[39m(labels[mask])\u001b[38;5;132;01m}\u001b[39;00m\u001b[38;5;124m not found in axis\u001b[39m\u001b[38;5;124m\"\u001b[39m)\n\u001b[0;32m   6645\u001b[0m     indexer \u001b[38;5;241m=\u001b[39m indexer[\u001b[38;5;241m~\u001b[39mmask]\n\u001b[0;32m   6646\u001b[0m \u001b[38;5;28;01mreturn\u001b[39;00m \u001b[38;5;28mself\u001b[39m\u001b[38;5;241m.\u001b[39mdelete(indexer)\n",
      "\u001b[1;31mKeyError\u001b[0m: \"['price_detail__currency', 'discount_price__currency', 'discount_price__price_string', 'price_detail__price_string', 'rating'] not found in axis\""
     ]
    }
   ],
   "source": [
    "# drop unnecessary columns\n",
    "\n",
    "df.drop(['price_detail__currency','discount_price__currency','discount_price__price_string','price_detail__price_string','rating'],axis=1,inplace=True)"
   ]
  },
  {
   "cell_type": "code",
   "execution_count": 39,
   "metadata": {
    "executionInfo": {
     "elapsed": 431,
     "status": "ok",
     "timestamp": 1664628260906,
     "user": {
      "displayName": "shubhanshu kanungo",
      "userId": "17740872798386647060"
     },
     "user_tz": -330
    },
    "id": "95IBgBrIpnPx"
   },
   "outputs": [],
   "source": [
    "# convert strings to timestamp\n",
    "\n",
    "df['created'] = pd.to_datetime(df['created'])\n",
    "df['published_time'] = pd.to_datetime(df['published_time'])"
   ]
  },
  {
   "cell_type": "code",
   "execution_count": 40,
   "metadata": {
    "executionInfo": {
     "elapsed": 114,
     "status": "ok",
     "timestamp": 1664624795434,
     "user": {
      "displayName": "shubhanshu kanungo",
      "userId": "17740872798386647060"
     },
     "user_tz": -330
    },
    "id": "cNGs_L2dBAlO"
   },
   "outputs": [],
   "source": [
    "# get published year for yearly analysis\n",
    "\n",
    "df['published_year'] = df['published_time'].dt.year\n",
    "df['published_month'] = df['published_time'].dt.month"
   ]
  },
  {
   "cell_type": "code",
   "execution_count": 41,
   "metadata": {
    "colab": {
     "base_uri": "https://localhost:8080/"
    },
    "executionInfo": {
     "elapsed": 116,
     "status": "ok",
     "timestamp": 1664624795437,
     "user": {
      "displayName": "shubhanshu kanungo",
      "userId": "17740872798386647060"
     },
     "user_tz": -330
    },
    "id": "Vy5-0oxyOa57",
    "outputId": "38d0d0d8-7438-4a6e-a71d-7f68c8a2bbf6"
   },
   "outputs": [
    {
     "data": {
      "text/plain": [
       "8937"
      ]
     },
     "execution_count": 41,
     "metadata": {},
     "output_type": "execute_result"
    }
   ],
   "source": [
    "# check for duplicate course entries\n",
    "# df[df['url'].duplicated() == True].value_counts()\n",
    "\n",
    "df['url'].nunique()"
   ]
  },
  {
   "cell_type": "markdown",
   "metadata": {
    "id": "PVPDsIgJgWWo"
   },
   "source": [
    "**Title could have been same but different url,  won't consider them duplicates.**"
   ]
  },
  {
   "cell_type": "code",
   "execution_count": 42,
   "metadata": {
    "colab": {
     "base_uri": "https://localhost:8080/"
    },
    "executionInfo": {
     "elapsed": 111,
     "status": "ok",
     "timestamp": 1664624795440,
     "user": {
      "displayName": "shubhanshu kanungo",
      "userId": "17740872798386647060"
     },
     "user_tz": -330
    },
    "id": "BlaiUxa0qFD4",
    "outputId": "fa66241b-5b8d-47e0-f597-17098387d8fe"
   },
   "outputs": [
    {
     "data": {
      "text/plain": [
       "id                              0\n",
       "title                           0\n",
       "url                             0\n",
       "is_paid                         0\n",
       "num_subscribers                 0\n",
       "avg_rating                      0\n",
       "avg_rating_recent               0\n",
       "num_reviews                     0\n",
       "is_wishlisted                   0\n",
       "num_published_lectures          0\n",
       "num_published_practice_tests    0\n",
       "created                         0\n",
       "published_time                  0\n",
       "discount_price__amount          0\n",
       "price_detail__amount            0\n",
       "published_year                  0\n",
       "published_month                 0\n",
       "discount_perc                   0\n",
       "sales                           0\n",
       "dtype: int64"
      ]
     },
     "execution_count": 42,
     "metadata": {},
     "output_type": "execute_result"
    }
   ],
   "source": [
    "# check for null values\n",
    "\n",
    "df.isnull().sum()"
   ]
  },
  {
   "cell_type": "markdown",
   "metadata": {
    "id": "8V3yLiZzpWoz"
   },
   "source": [
    "**510 null values in sngle column.\n",
    "checking percentage of null values then deciding what to do with them.**"
   ]
  },
  {
   "cell_type": "code",
   "execution_count": 43,
   "metadata": {
    "colab": {
     "base_uri": "https://localhost:8080/"
    },
    "executionInfo": {
     "elapsed": 102,
     "status": "ok",
     "timestamp": 1664624795441,
     "user": {
      "displayName": "shubhanshu kanungo",
      "userId": "17740872798386647060"
     },
     "user_tz": -330
    },
    "id": "VVPs4YeFp0dJ",
    "outputId": "714f8d57-e47d-459e-8c3e-0d095c9479e8"
   },
   "outputs": [
    {
     "data": {
      "text/plain": [
       "0.0"
      ]
     },
     "execution_count": 43,
     "metadata": {},
     "output_type": "execute_result"
    }
   ],
   "source": [
    "df['discount_price__amount'].isnull().sum()/9447*100"
   ]
  },
  {
   "cell_type": "markdown",
   "metadata": {
    "id": "BThhz5bzqIxU"
   },
   "source": [
    "**There are almost 6% null values in particular column.\n",
    "So either we can drop those 6% rows or we can try to fill with 0/mean/mode/median.\n",
    "I'll be trying three different approaches at same time.**"
   ]
  },
  {
   "cell_type": "code",
   "execution_count": 44,
   "metadata": {
    "executionInfo": {
     "elapsed": 680,
     "status": "ok",
     "timestamp": 1664624796027,
     "user": {
      "displayName": "shubhanshu kanungo",
      "userId": "17740872798386647060"
     },
     "user_tz": -330
    },
    "id": "V8OqO2LMxZ7Z"
   },
   "outputs": [],
   "source": [
    "# lets try replacing null values with 0 and mean separately\n",
    "\n",
    "new1 = df.fillna(0)\n",
    "new2 = df.fillna(df['discount_price__amount'].mean())"
   ]
  },
  {
   "cell_type": "code",
   "execution_count": 45,
   "metadata": {
    "executionInfo": {
     "elapsed": 56,
     "status": "ok",
     "timestamp": 1664624796033,
     "user": {
      "displayName": "shubhanshu kanungo",
      "userId": "17740872798386647060"
     },
     "user_tz": -330
    },
    "id": "1PAkW7OEBdxY"
   },
   "outputs": [],
   "source": [
    "#dropped rows with null values\n",
    "\n",
    "df = df.dropna()"
   ]
  },
  {
   "cell_type": "code",
   "execution_count": 18,
   "metadata": {
    "colab": {
     "base_uri": "https://localhost:8080/"
    },
    "executionInfo": {
     "elapsed": 57,
     "status": "ok",
     "timestamp": 1664624796037,
     "user": {
      "displayName": "shubhanshu kanungo",
      "userId": "17740872798386647060"
     },
     "user_tz": -330
    },
    "id": "wEriO1FzqseN",
    "outputId": "02e61170-f9f8-4ec9-af98-8f0dec8419be"
   },
   "outputs": [
    {
     "name": "stdout",
     "output_type": "stream",
     "text": [
      "avg_discounted_amount : 488.98411099921674\n",
      "avg_discounted_amount : 462.58611199322536\n",
      "avg_discounted_amount : 488.98411099921793\n"
     ]
    }
   ],
   "source": [
    "for i in [df,new1,new2]:\n",
    "  # adding new column named discount_perc\n",
    "  i['discount_perc']=i['discount_price__amount']/i['price_detail__amount']*100\n",
    "\n",
    "  #check for avg \n",
    "  print(\"avg_discounted_amount : {}\".format(i['discount_price__amount'].mean()))"
   ]
  },
  {
   "cell_type": "markdown",
   "metadata": {
    "id": "jw3E2Rj74xqG"
   },
   "source": [
    "**After replacing null values with 0 mean of the data fluctuated by just less than 6%, so that is not bad. **"
   ]
  },
  {
   "cell_type": "markdown",
   "metadata": {
    "id": "62V796fI50q1"
   },
   "source": [
    "**Lets see how different are the other outcomes**"
   ]
  },
  {
   "cell_type": "markdown",
   "metadata": {
    "id": "6y-9InYWjINk"
   },
   "source": [
    "**Let's check for correlation between continuous features**"
   ]
  },
  {
   "cell_type": "code",
   "execution_count": 19,
   "metadata": {
    "colab": {
     "base_uri": "https://localhost:8080/"
    },
    "executionInfo": {
     "elapsed": 47,
     "status": "ok",
     "timestamp": 1664624796040,
     "user": {
      "displayName": "shubhanshu kanungo",
      "userId": "17740872798386647060"
     },
     "user_tz": -330
    },
    "id": "1_Za6qAvjHe5",
    "outputId": "e86927f0-781d-43b7-b941-b0be8e42be16"
   },
   "outputs": [
    {
     "data": {
      "text/plain": [
       "['num_subscribers',\n",
       " 'avg_rating',\n",
       " 'avg_rating_recent',\n",
       " 'num_reviews',\n",
       " 'num_published_lectures',\n",
       " 'num_published_practice_tests',\n",
       " 'discount_price__amount',\n",
       " 'price_detail__amount',\n",
       " 'published_year',\n",
       " 'published_month',\n",
       " 'discount_perc']"
      ]
     },
     "execution_count": 19,
     "metadata": {},
     "output_type": "execute_result"
    }
   ],
   "source": [
    "continuous_features = [feature for feature in df.columns if df[feature].dtypes in ['int64','float'] and feature != 'id']\n",
    "continuous_features"
   ]
  },
  {
   "cell_type": "code",
   "execution_count": 1,
   "metadata": {
    "colab": {
     "base_uri": "https://localhost:8080/",
     "height": 1000
    },
    "executionInfo": {
     "elapsed": 4033,
     "status": "ok",
     "timestamp": 1664624800041,
     "user": {
      "displayName": "shubhanshu kanungo",
      "userId": "17740872798386647060"
     },
     "user_tz": -330
    },
    "id": "ATXGqdm_kmxk",
    "outputId": "757d52b9-5df8-4979-c30c-ce178c6a6cdc"
   },
   "outputs": [
    {
     "ename": "NameError",
     "evalue": "name 'df' is not defined",
     "output_type": "error",
     "traceback": [
      "\u001b[1;31m---------------------------------------------------------------------------\u001b[0m",
      "\u001b[1;31mNameError\u001b[0m                                 Traceback (most recent call last)",
      "Input \u001b[1;32mIn [1]\u001b[0m, in \u001b[0;36m<cell line: 1>\u001b[1;34m()\u001b[0m\n\u001b[1;32m----> 1\u001b[0m \u001b[38;5;28;01mfor\u001b[39;00m x \u001b[38;5;129;01min\u001b[39;00m [\u001b[43mdf\u001b[49m,new1,new2]:\n\u001b[0;32m      2\u001b[0m   df1 \u001b[38;5;241m=\u001b[39m x[continuous_features]\n\u001b[0;32m      3\u001b[0m   plt\u001b[38;5;241m.\u001b[39mfigure(figsize\u001b[38;5;241m=\u001b[39m(\u001b[38;5;241m12\u001b[39m,\u001b[38;5;241m4\u001b[39m))\n",
      "\u001b[1;31mNameError\u001b[0m: name 'df' is not defined"
     ]
    }
   ],
   "source": [
    "for x in [df,new1,new2]:\n",
    "  df1 = x[continuous_features]\n",
    "  plt.figure(figsize=(12,4))\n",
    "  sns.heatmap(data=df1.corr(),cmap=\"YlGnBu\", annot=True)\n",
    "  plt.show()"
   ]
  },
  {
   "cell_type": "markdown",
   "metadata": {
    "id": "nISZZIPzn1Vd"
   },
   "source": [
    "**Each correlation matrix is almost similar and there is no strong correlation between any of the features apart from no. of subscribers and no. of reviews.**"
   ]
  },
  {
   "cell_type": "markdown",
   "metadata": {
    "id": "EEY1aYnY43C2"
   },
   "source": [
    "**Checking if other results would vary or not for these three datasets.**"
   ]
  },
  {
   "cell_type": "code",
   "execution_count": 21,
   "metadata": {
    "colab": {
     "base_uri": "https://localhost:8080/",
     "height": 388
    },
    "executionInfo": {
     "elapsed": 43,
     "status": "ok",
     "timestamp": 1664624800044,
     "user": {
      "displayName": "shubhanshu kanungo",
      "userId": "17740872798386647060"
     },
     "user_tz": -330
    },
    "id": "oKeIBlCI9ECh",
    "outputId": "69b842f1-cbdf-4474-c5b9-10462c928861"
   },
   "outputs": [
    {
     "data": {
      "image/png": "[encoded data removed]",
      "text/plain": [
       "<Figure size 1296x432 with 3 Axes>"
      ]
     },
     "metadata": {
      "needs_background": "light"
     },
     "output_type": "display_data"
    }
   ],
   "source": [
    "# Check for most subscribed course\n",
    "\n",
    "fig,axes = plt.subplots(nrows=1,ncols=3,figsize=(18,6))\n",
    "\n",
    "sns.barplot(ax=axes[0],data=df, x=df.nlargest(5,'num_subscribers')['id'], y=df.nlargest(5,'num_subscribers')['num_subscribers'])\n",
    "\n",
    "sns.barplot(ax=axes[1],data=new1, x=new1.nlargest(5,'num_subscribers')['id'], y=new1.nlargest(5,'num_subscribers')['num_subscribers'])\n",
    "\n",
    "sns.barplot(ax=axes[2],data=new2, x=new2.nlargest(5,'num_subscribers')['id'], y=new2.nlargest(5,'num_subscribers')['num_subscribers'])\n",
    "\n",
    "plt.show()"
   ]
  },
  {
   "cell_type": "markdown",
   "metadata": {
    "id": "q76hf1ZTOMQG"
   },
   "source": [
    "***All results are same and the most subscribed course has id 637930***"
   ]
  },
  {
   "cell_type": "code",
   "execution_count": 22,
   "metadata": {
    "colab": {
     "base_uri": "https://localhost:8080/",
     "height": 368
    },
    "executionInfo": {
     "elapsed": 37,
     "status": "ok",
     "timestamp": 1664624800046,
     "user": {
      "displayName": "shubhanshu kanungo",
      "userId": "17740872798386647060"
     },
     "user_tz": -330
    },
    "id": "du-VFxQwOegK",
    "outputId": "0e98d892-6244-4292-e380-b86c199b9532"
   },
   "outputs": [
    {
     "data": {
      "image/png": "[encoded data removed]",
      "text/plain": [
       "<Figure size 1440x432 with 3 Axes>"
      ]
     },
     "metadata": {
      "needs_background": "light"
     },
     "output_type": "display_data"
    }
   ],
   "source": [
    "# most reviewed course\n",
    "fig,axes = plt.subplots(nrows=1,ncols=3,figsize=(20,6))\n",
    "\n",
    "sns.barplot(ax=axes[0],data=df, x=df.nlargest(5,'num_reviews')['id'], y=df.nlargest(5,'num_reviews')['num_reviews'])\n",
    "\n",
    "sns.barplot(ax=axes[1],data=new1, x=new1.nlargest(5,'num_reviews')['id'], y=new1.nlargest(5,'num_reviews')['num_reviews'])\n",
    "\n",
    "sns.barplot(ax=axes[2],data=new2, x=new2.nlargest(5,'num_reviews')['id'], y=new2.nlargest(5,'num_reviews')['num_reviews'])\n",
    "\n",
    "plt.show()"
   ]
  },
  {
   "cell_type": "markdown",
   "metadata": {
    "id": "iOH66K4XPidD"
   },
   "source": [
    "***Again the results of all three datasets are same, and the most reviewed course has id 762616.\n",
    "Also there were 4 exact same entries to what we saw in most subscribed courses, as it was clear from correlation heatmap.***"
   ]
  },
  {
   "cell_type": "code",
   "execution_count": 23,
   "metadata": {
    "colab": {
     "base_uri": "https://localhost:8080/",
     "height": 375
    },
    "executionInfo": {
     "elapsed": 1358,
     "status": "ok",
     "timestamp": 1664624801372,
     "user": {
      "displayName": "shubhanshu kanungo",
      "userId": "17740872798386647060"
     },
     "user_tz": -330
    },
    "id": "jPU2hi6GXNw3",
    "outputId": "be291d2b-3a46-45a7-b4b1-0bf5625602b2"
   },
   "outputs": [
    {
     "data": {
      "image/png": "[encoded data removed]",
      "text/plain": [
       "<Figure size 1440x432 with 3 Axes>"
      ]
     },
     "metadata": {
      "needs_background": "light"
     },
     "output_type": "display_data"
    }
   ],
   "source": [
    "#yearly growth of platform\n",
    "\n",
    "fig,axes = plt.subplots(nrows=1,ncols=3,figsize=(20,6))\n",
    "\n",
    "sns.countplot(ax=axes[0],data=df, x='published_year')\n",
    "\n",
    "sns.countplot(ax=axes[1],data=new1, x='published_year')\n",
    "\n",
    "sns.countplot(ax=axes[2],data=new2, x='published_year')\n",
    "plt.show()\n"
   ]
  },
  {
   "cell_type": "code",
   "execution_count": 24,
   "metadata": {
    "colab": {
     "base_uri": "https://localhost:8080/",
     "height": 389
    },
    "executionInfo": {
     "elapsed": 96,
     "status": "ok",
     "timestamp": 1664624801377,
     "user": {
      "displayName": "shubhanshu kanungo",
      "userId": "17740872798386647060"
     },
     "user_tz": -330
    },
    "id": "Ee_OMyxlg4Hy",
    "outputId": "4c020c48-d3eb-49d9-8a71-a61134c9ea5a"
   },
   "outputs": [
    {
     "data": {
      "image/png": "[encoded data removed]",
      "text/plain": [
       "<Figure size 1296x432 with 3 Axes>"
      ]
     },
     "metadata": {
      "needs_background": "light"
     },
     "output_type": "display_data"
    }
   ],
   "source": [
    "fig,axes = plt.subplots(1,3,figsize=(18,6))\n",
    "\n",
    "sns.scatterplot(ax=axes[0],x=df['discount_price__amount'],y=df['num_subscribers'])\n",
    "\n",
    "sns.scatterplot(ax=axes[1],x=new1['discount_price__amount'],y=new1['num_subscribers'])\n",
    "\n",
    "sns.scatterplot(ax=axes[2],x=new2['discount_price__amount'],y=new2['num_subscribers'])\n",
    "\n",
    "plt.show()"
   ]
  },
  {
   "cell_type": "markdown",
   "metadata": {
    "id": "MsIcd0mtgQg1"
   },
   "source": [
    "**It is clear that the rows containing null values were not affecting our data that much so we can drop them.**"
   ]
  },
  {
   "cell_type": "code",
   "execution_count": 25,
   "metadata": {
    "executionInfo": {
     "elapsed": 115,
     "status": "ok",
     "timestamp": 1664624801404,
     "user": {
      "displayName": "shubhanshu kanungo",
      "userId": "17740872798386647060"
     },
     "user_tz": -330
    },
    "id": "ujLf38EhXJ6E"
   },
   "outputs": [],
   "source": [
    "# adding new column for total sales\n",
    "df['sales'] = df['num_subscribers']*df['discount_price__amount']"
   ]
  },
  {
   "cell_type": "code",
   "execution_count": 26,
   "metadata": {
    "colab": {
     "base_uri": "https://localhost:8080/",
     "height": 482
    },
    "executionInfo": {
     "elapsed": 121,
     "status": "ok",
     "timestamp": 1664624801412,
     "user": {
      "displayName": "shubhanshu kanungo",
      "userId": "17740872798386647060"
     },
     "user_tz": -330
    },
    "id": "dz5ldo50cJS8",
    "outputId": "867f1be5-06d2-4ed9-8518-945b65b84b89"
   },
   "outputs": [
    {
     "data": {
      "text/html": [
       "<div>\n",
       "<style scoped>\n",
       "    .dataframe tbody tr th:only-of-type {\n",
       "        vertical-align: middle;\n",
       "    }\n",
       "\n",
       "    .dataframe tbody tr th {\n",
       "        vertical-align: top;\n",
       "    }\n",
       "\n",
       "    .dataframe thead th {\n",
       "        text-align: right;\n",
       "    }\n",
       "</style>\n",
       "<table border=\"1\" class=\"dataframe\">\n",
       "  <thead>\n",
       "    <tr style=\"text-align: right;\">\n",
       "      <th></th>\n",
       "      <th>id</th>\n",
       "      <th>title</th>\n",
       "      <th>url</th>\n",
       "      <th>is_paid</th>\n",
       "      <th>num_subscribers</th>\n",
       "      <th>avg_rating</th>\n",
       "      <th>avg_rating_recent</th>\n",
       "      <th>num_reviews</th>\n",
       "      <th>is_wishlisted</th>\n",
       "      <th>num_published_lectures</th>\n",
       "      <th>num_published_practice_tests</th>\n",
       "      <th>created</th>\n",
       "      <th>published_time</th>\n",
       "      <th>discount_price__amount</th>\n",
       "      <th>price_detail__amount</th>\n",
       "      <th>published_year</th>\n",
       "      <th>published_month</th>\n",
       "      <th>discount_perc</th>\n",
       "      <th>sales</th>\n",
       "    </tr>\n",
       "  </thead>\n",
       "  <tbody>\n",
       "    <tr>\n",
       "      <th>0</th>\n",
       "      <td>762616</td>\n",
       "      <td>The Complete SQL Bootcamp 2020: Go from Zero t...</td>\n",
       "      <td>/course/the-complete-sql-bootcamp/</td>\n",
       "      <td>True</td>\n",
       "      <td>295509</td>\n",
       "      <td>4.66019</td>\n",
       "      <td>4.67874</td>\n",
       "      <td>78006</td>\n",
       "      <td>False</td>\n",
       "      <td>84</td>\n",
       "      <td>0</td>\n",
       "      <td>2016-02-14 22:57:48+00:00</td>\n",
       "      <td>2016-04-06 05:16:11+00:00</td>\n",
       "      <td>455.0</td>\n",
       "      <td>8640</td>\n",
       "      <td>2016</td>\n",
       "      <td>4</td>\n",
       "      <td>5.266204</td>\n",
       "      <td>134456595.0</td>\n",
       "    </tr>\n",
       "    <tr>\n",
       "      <th>1</th>\n",
       "      <td>937678</td>\n",
       "      <td>Tableau 2020 A-Z: Hands-On Tableau Training fo...</td>\n",
       "      <td>/course/tableau10/</td>\n",
       "      <td>True</td>\n",
       "      <td>209070</td>\n",
       "      <td>4.58956</td>\n",
       "      <td>4.60015</td>\n",
       "      <td>54581</td>\n",
       "      <td>False</td>\n",
       "      <td>78</td>\n",
       "      <td>0</td>\n",
       "      <td>2016-08-22 12:10:18+00:00</td>\n",
       "      <td>2016-08-23 16:59:49+00:00</td>\n",
       "      <td>455.0</td>\n",
       "      <td>8640</td>\n",
       "      <td>2016</td>\n",
       "      <td>8</td>\n",
       "      <td>5.266204</td>\n",
       "      <td>95126850.0</td>\n",
       "    </tr>\n",
       "    <tr>\n",
       "      <th>3</th>\n",
       "      <td>648826</td>\n",
       "      <td>The Complete Financial Analyst Course 2020</td>\n",
       "      <td>/course/the-complete-financial-analyst-course/</td>\n",
       "      <td>True</td>\n",
       "      <td>245860</td>\n",
       "      <td>4.54407</td>\n",
       "      <td>4.53772</td>\n",
       "      <td>46447</td>\n",
       "      <td>False</td>\n",
       "      <td>338</td>\n",
       "      <td>0</td>\n",
       "      <td>2015-10-23 13:34:35+00:00</td>\n",
       "      <td>2016-01-21 01:38:48+00:00</td>\n",
       "      <td>455.0</td>\n",
       "      <td>8640</td>\n",
       "      <td>2016</td>\n",
       "      <td>1</td>\n",
       "      <td>5.266204</td>\n",
       "      <td>111866300.0</td>\n",
       "    </tr>\n",
       "    <tr>\n",
       "      <th>4</th>\n",
       "      <td>637930</td>\n",
       "      <td>An Entire MBA in 1 Course:Award Winning Busine...</td>\n",
       "      <td>/course/an-entire-mba-in-1-courseaward-winning...</td>\n",
       "      <td>True</td>\n",
       "      <td>374836</td>\n",
       "      <td>4.47080</td>\n",
       "      <td>4.47173</td>\n",
       "      <td>41630</td>\n",
       "      <td>False</td>\n",
       "      <td>83</td>\n",
       "      <td>0</td>\n",
       "      <td>2015-10-12 06:39:46+00:00</td>\n",
       "      <td>2016-01-11 21:39:33+00:00</td>\n",
       "      <td>455.0</td>\n",
       "      <td>8640</td>\n",
       "      <td>2016</td>\n",
       "      <td>1</td>\n",
       "      <td>5.266204</td>\n",
       "      <td>170550380.0</td>\n",
       "    </tr>\n",
       "  </tbody>\n",
       "</table>\n",
       "</div>"
      ],
      "text/plain": [
       "       id                                              title  \\\n",
       "0  762616  The Complete SQL Bootcamp 2020: Go from Zero t...   \n",
       "1  937678  Tableau 2020 A-Z: Hands-On Tableau Training fo...   \n",
       "3  648826         The Complete Financial Analyst Course 2020   \n",
       "4  637930  An Entire MBA in 1 Course:Award Winning Busine...   \n",
       "\n",
       "                                                 url  is_paid  \\\n",
       "0                 /course/the-complete-sql-bootcamp/     True   \n",
       "1                                 /course/tableau10/     True   \n",
       "3     /course/the-complete-financial-analyst-course/     True   \n",
       "4  /course/an-entire-mba-in-1-courseaward-winning...     True   \n",
       "\n",
       "   num_subscribers  avg_rating  avg_rating_recent  num_reviews  is_wishlisted  \\\n",
       "0           295509     4.66019            4.67874        78006          False   \n",
       "1           209070     4.58956            4.60015        54581          False   \n",
       "3           245860     4.54407            4.53772        46447          False   \n",
       "4           374836     4.47080            4.47173        41630          False   \n",
       "\n",
       "   num_published_lectures  num_published_practice_tests  \\\n",
       "0                      84                             0   \n",
       "1                      78                             0   \n",
       "3                     338                             0   \n",
       "4                      83                             0   \n",
       "\n",
       "                    created            published_time  discount_price__amount  \\\n",
       "0 2016-02-14 22:57:48+00:00 2016-04-06 05:16:11+00:00                   455.0   \n",
       "1 2016-08-22 12:10:18+00:00 2016-08-23 16:59:49+00:00                   455.0   \n",
       "3 2015-10-23 13:34:35+00:00 2016-01-21 01:38:48+00:00                   455.0   \n",
       "4 2015-10-12 06:39:46+00:00 2016-01-11 21:39:33+00:00                   455.0   \n",
       "\n",
       "   price_detail__amount  published_year  published_month  discount_perc  \\\n",
       "0                  8640            2016                4       5.266204   \n",
       "1                  8640            2016                8       5.266204   \n",
       "3                  8640            2016                1       5.266204   \n",
       "4                  8640            2016                1       5.266204   \n",
       "\n",
       "         sales  \n",
       "0  134456595.0  \n",
       "1   95126850.0  \n",
       "3  111866300.0  \n",
       "4  170550380.0  "
      ]
     },
     "execution_count": 26,
     "metadata": {},
     "output_type": "execute_result"
    }
   ],
   "source": [
    "df[df['id'].isin([637930,648826,762616,937678])]"
   ]
  },
  {
   "cell_type": "code",
   "execution_count": 27,
   "metadata": {
    "colab": {
     "base_uri": "https://localhost:8080/",
     "height": 298
    },
    "executionInfo": {
     "elapsed": 125,
     "status": "ok",
     "timestamp": 1664624801419,
     "user": {
      "displayName": "shubhanshu kanungo",
      "userId": "17740872798386647060"
     },
     "user_tz": -330
    },
    "id": "4h-hnBPMqxX5",
    "outputId": "ec2399d2-9a7a-4f6e-8dbd-eb82195c6561"
   },
   "outputs": [
    {
     "data": {
      "text/plain": [
       "<AxesSubplot:xlabel='num_published_lectures'>"
      ]
     },
     "execution_count": 27,
     "metadata": {},
     "output_type": "execute_result"
    },
    {
     "data": {
      "image/png": "[encoded data removed]",
      "text/plain": [
       "<Figure size 864x288 with 1 Axes>"
      ]
     },
     "metadata": {
      "needs_background": "light"
     },
     "output_type": "display_data"
    }
   ],
   "source": [
    "plt.figure(figsize=(12,4))\n",
    "sns.boxplot(data=df,x='num_published_lectures')"
   ]
  },
  {
   "cell_type": "markdown",
   "metadata": {
    "id": "riS6aUlPq13a"
   },
   "source": [
    "**There can be seen far too many outliers. The third quartile value for published lectures is 39. Lets check other 25% data.**"
   ]
  },
  {
   "cell_type": "code",
   "execution_count": 28,
   "metadata": {
    "colab": {
     "base_uri": "https://localhost:8080/",
     "height": 457
    },
    "executionInfo": {
     "elapsed": 1411,
     "status": "ok",
     "timestamp": 1664624802717,
     "user": {
      "displayName": "shubhanshu kanungo",
      "userId": "17740872798386647060"
     },
     "user_tz": -330
    },
    "id": "_3_VDzyUf9-j",
    "outputId": "b3bd257a-3c7a-4d9c-e8d0-5ceb00361476"
   },
   "outputs": [
    {
     "data": {
      "text/html": [
       "<div>\n",
       "<style scoped>\n",
       "    .dataframe tbody tr th:only-of-type {\n",
       "        vertical-align: middle;\n",
       "    }\n",
       "\n",
       "    .dataframe tbody tr th {\n",
       "        vertical-align: top;\n",
       "    }\n",
       "\n",
       "    .dataframe thead th {\n",
       "        text-align: right;\n",
       "    }\n",
       "</style>\n",
       "<table border=\"1\" class=\"dataframe\">\n",
       "  <thead>\n",
       "    <tr style=\"text-align: right;\">\n",
       "      <th></th>\n",
       "      <th>count</th>\n",
       "      <th>mean</th>\n",
       "      <th>std</th>\n",
       "      <th>min</th>\n",
       "      <th>25%</th>\n",
       "      <th>50%</th>\n",
       "      <th>75%</th>\n",
       "      <th>max</th>\n",
       "    </tr>\n",
       "  </thead>\n",
       "  <tbody>\n",
       "    <tr>\n",
       "      <th>id</th>\n",
       "      <td>2187.0</td>\n",
       "      <td>1.432712e+06</td>\n",
       "      <td>8.898194e+05</td>\n",
       "      <td>8075.000000</td>\n",
       "      <td>658917.000000</td>\n",
       "      <td>1.354030e+06</td>\n",
       "      <td>2.141789e+06</td>\n",
       "      <td>3.465034e+06</td>\n",
       "    </tr>\n",
       "    <tr>\n",
       "      <th>num_subscribers</th>\n",
       "      <td>2187.0</td>\n",
       "      <td>6.852308e+03</td>\n",
       "      <td>1.928104e+04</td>\n",
       "      <td>5.000000</td>\n",
       "      <td>383.500000</td>\n",
       "      <td>1.727000e+03</td>\n",
       "      <td>5.504000e+03</td>\n",
       "      <td>3.748360e+05</td>\n",
       "    </tr>\n",
       "    <tr>\n",
       "      <th>avg_rating</th>\n",
       "      <td>2187.0</td>\n",
       "      <td>4.233869e+00</td>\n",
       "      <td>3.944101e-01</td>\n",
       "      <td>2.050000</td>\n",
       "      <td>4.050000</td>\n",
       "      <td>4.321430e+00</td>\n",
       "      <td>4.500000e+00</td>\n",
       "      <td>5.000000e+00</td>\n",
       "    </tr>\n",
       "    <tr>\n",
       "      <th>avg_rating_recent</th>\n",
       "      <td>2187.0</td>\n",
       "      <td>4.220092e+00</td>\n",
       "      <td>4.159612e-01</td>\n",
       "      <td>1.234940</td>\n",
       "      <td>4.032005</td>\n",
       "      <td>4.307010e+00</td>\n",
       "      <td>4.501085e+00</td>\n",
       "      <td>5.000000e+00</td>\n",
       "    </tr>\n",
       "    <tr>\n",
       "      <th>num_reviews</th>\n",
       "      <td>2187.0</td>\n",
       "      <td>7.677846e+02</td>\n",
       "      <td>3.533723e+03</td>\n",
       "      <td>3.000000</td>\n",
       "      <td>22.000000</td>\n",
       "      <td>7.700000e+01</td>\n",
       "      <td>3.545000e+02</td>\n",
       "      <td>7.800600e+04</td>\n",
       "    </tr>\n",
       "    <tr>\n",
       "      <th>num_published_lectures</th>\n",
       "      <td>2187.0</td>\n",
       "      <td>8.195382e+01</td>\n",
       "      <td>7.235996e+01</td>\n",
       "      <td>40.000000</td>\n",
       "      <td>47.000000</td>\n",
       "      <td>5.900000e+01</td>\n",
       "      <td>8.500000e+01</td>\n",
       "      <td>6.990000e+02</td>\n",
       "    </tr>\n",
       "    <tr>\n",
       "      <th>num_published_practice_tests</th>\n",
       "      <td>2187.0</td>\n",
       "      <td>5.212620e-02</td>\n",
       "      <td>2.805510e-01</td>\n",
       "      <td>0.000000</td>\n",
       "      <td>0.000000</td>\n",
       "      <td>0.000000e+00</td>\n",
       "      <td>0.000000e+00</td>\n",
       "      <td>2.000000e+00</td>\n",
       "    </tr>\n",
       "    <tr>\n",
       "      <th>discount_price__amount</th>\n",
       "      <td>2187.0</td>\n",
       "      <td>4.986589e+02</td>\n",
       "      <td>2.941672e+02</td>\n",
       "      <td>455.000000</td>\n",
       "      <td>455.000000</td>\n",
       "      <td>4.550000e+02</td>\n",
       "      <td>4.550000e+02</td>\n",
       "      <td>3.200000e+03</td>\n",
       "    </tr>\n",
       "    <tr>\n",
       "      <th>price_detail__amount</th>\n",
       "      <td>2187.0</td>\n",
       "      <td>6.185350e+03</td>\n",
       "      <td>2.932057e+03</td>\n",
       "      <td>1280.000000</td>\n",
       "      <td>3200.000000</td>\n",
       "      <td>8.320000e+03</td>\n",
       "      <td>8.640000e+03</td>\n",
       "      <td>1.152000e+04</td>\n",
       "    </tr>\n",
       "    <tr>\n",
       "      <th>published_year</th>\n",
       "      <td>2187.0</td>\n",
       "      <td>2.017116e+03</td>\n",
       "      <td>1.954858e+00</td>\n",
       "      <td>2011.000000</td>\n",
       "      <td>2016.000000</td>\n",
       "      <td>2.017000e+03</td>\n",
       "      <td>2.019000e+03</td>\n",
       "      <td>2.020000e+03</td>\n",
       "    </tr>\n",
       "    <tr>\n",
       "      <th>published_month</th>\n",
       "      <td>2187.0</td>\n",
       "      <td>6.399634e+00</td>\n",
       "      <td>3.403265e+00</td>\n",
       "      <td>1.000000</td>\n",
       "      <td>3.000000</td>\n",
       "      <td>6.000000e+00</td>\n",
       "      <td>1.000000e+01</td>\n",
       "      <td>1.200000e+01</td>\n",
       "    </tr>\n",
       "    <tr>\n",
       "      <th>discount_perc</th>\n",
       "      <td>2187.0</td>\n",
       "      <td>1.237317e+01</td>\n",
       "      <td>1.067287e+01</td>\n",
       "      <td>5.258621</td>\n",
       "      <td>5.266204</td>\n",
       "      <td>5.687500e+00</td>\n",
       "      <td>1.579861e+01</td>\n",
       "      <td>5.468750e+01</td>\n",
       "    </tr>\n",
       "    <tr>\n",
       "      <th>sales</th>\n",
       "      <td>2187.0</td>\n",
       "      <td>3.274576e+06</td>\n",
       "      <td>9.027490e+06</td>\n",
       "      <td>2275.000000</td>\n",
       "      <td>182227.500000</td>\n",
       "      <td>8.035300e+05</td>\n",
       "      <td>2.606922e+06</td>\n",
       "      <td>1.705504e+08</td>\n",
       "    </tr>\n",
       "  </tbody>\n",
       "</table>\n",
       "</div>"
      ],
      "text/plain": [
       "                               count          mean           std          min  \\\n",
       "id                            2187.0  1.432712e+06  8.898194e+05  8075.000000   \n",
       "num_subscribers               2187.0  6.852308e+03  1.928104e+04     5.000000   \n",
       "avg_rating                    2187.0  4.233869e+00  3.944101e-01     2.050000   \n",
       "avg_rating_recent             2187.0  4.220092e+00  4.159612e-01     1.234940   \n",
       "num_reviews                   2187.0  7.677846e+02  3.533723e+03     3.000000   \n",
       "num_published_lectures        2187.0  8.195382e+01  7.235996e+01    40.000000   \n",
       "num_published_practice_tests  2187.0  5.212620e-02  2.805510e-01     0.000000   \n",
       "discount_price__amount        2187.0  4.986589e+02  2.941672e+02   455.000000   \n",
       "price_detail__amount          2187.0  6.185350e+03  2.932057e+03  1280.000000   \n",
       "published_year                2187.0  2.017116e+03  1.954858e+00  2011.000000   \n",
       "published_month               2187.0  6.399634e+00  3.403265e+00     1.000000   \n",
       "discount_perc                 2187.0  1.237317e+01  1.067287e+01     5.258621   \n",
       "sales                         2187.0  3.274576e+06  9.027490e+06  2275.000000   \n",
       "\n",
       "                                        25%           50%           75%  \\\n",
       "id                            658917.000000  1.354030e+06  2.141789e+06   \n",
       "num_subscribers                  383.500000  1.727000e+03  5.504000e+03   \n",
       "avg_rating                         4.050000  4.321430e+00  4.500000e+00   \n",
       "avg_rating_recent                  4.032005  4.307010e+00  4.501085e+00   \n",
       "num_reviews                       22.000000  7.700000e+01  3.545000e+02   \n",
       "num_published_lectures            47.000000  5.900000e+01  8.500000e+01   \n",
       "num_published_practice_tests       0.000000  0.000000e+00  0.000000e+00   \n",
       "discount_price__amount           455.000000  4.550000e+02  4.550000e+02   \n",
       "price_detail__amount            3200.000000  8.320000e+03  8.640000e+03   \n",
       "published_year                  2016.000000  2.017000e+03  2.019000e+03   \n",
       "published_month                    3.000000  6.000000e+00  1.000000e+01   \n",
       "discount_perc                      5.266204  5.687500e+00  1.579861e+01   \n",
       "sales                         182227.500000  8.035300e+05  2.606922e+06   \n",
       "\n",
       "                                       max  \n",
       "id                            3.465034e+06  \n",
       "num_subscribers               3.748360e+05  \n",
       "avg_rating                    5.000000e+00  \n",
       "avg_rating_recent             5.000000e+00  \n",
       "num_reviews                   7.800600e+04  \n",
       "num_published_lectures        6.990000e+02  \n",
       "num_published_practice_tests  2.000000e+00  \n",
       "discount_price__amount        3.200000e+03  \n",
       "price_detail__amount          1.152000e+04  \n",
       "published_year                2.020000e+03  \n",
       "published_month               1.200000e+01  \n",
       "discount_perc                 5.468750e+01  \n",
       "sales                         1.705504e+08  "
      ]
     },
     "execution_count": 28,
     "metadata": {},
     "output_type": "execute_result"
    }
   ],
   "source": [
    "df[df['num_published_lectures']>39].describe().transpose()"
   ]
  },
  {
   "cell_type": "code",
   "execution_count": 29,
   "metadata": {
    "colab": {
     "base_uri": "https://localhost:8080/",
     "height": 384
    },
    "executionInfo": {
     "elapsed": 96,
     "status": "ok",
     "timestamp": 1664624802722,
     "user": {
      "displayName": "shubhanshu kanungo",
      "userId": "17740872798386647060"
     },
     "user_tz": -330
    },
    "id": "m_Y-4by-sRhe",
    "outputId": "a34ffff6-07be-4b49-aa4e-ddd60f5e4935"
   },
   "outputs": [
    {
     "data": {
      "text/html": [
       "<div>\n",
       "<style scoped>\n",
       "    .dataframe tbody tr th:only-of-type {\n",
       "        vertical-align: middle;\n",
       "    }\n",
       "\n",
       "    .dataframe tbody tr th {\n",
       "        vertical-align: top;\n",
       "    }\n",
       "\n",
       "    .dataframe thead th {\n",
       "        text-align: right;\n",
       "    }\n",
       "</style>\n",
       "<table border=\"1\" class=\"dataframe\">\n",
       "  <thead>\n",
       "    <tr style=\"text-align: right;\">\n",
       "      <th></th>\n",
       "      <th>id</th>\n",
       "      <th>title</th>\n",
       "      <th>url</th>\n",
       "      <th>is_paid</th>\n",
       "      <th>num_subscribers</th>\n",
       "      <th>avg_rating</th>\n",
       "      <th>avg_rating_recent</th>\n",
       "      <th>num_reviews</th>\n",
       "      <th>is_wishlisted</th>\n",
       "      <th>num_published_lectures</th>\n",
       "      <th>num_published_practice_tests</th>\n",
       "      <th>created</th>\n",
       "      <th>published_time</th>\n",
       "      <th>discount_price__amount</th>\n",
       "      <th>price_detail__amount</th>\n",
       "      <th>published_year</th>\n",
       "      <th>published_month</th>\n",
       "      <th>discount_perc</th>\n",
       "      <th>sales</th>\n",
       "    </tr>\n",
       "  </thead>\n",
       "  <tbody>\n",
       "    <tr>\n",
       "      <th>0</th>\n",
       "      <td>762616</td>\n",
       "      <td>The Complete SQL Bootcamp 2020: Go from Zero t...</td>\n",
       "      <td>/course/the-complete-sql-bootcamp/</td>\n",
       "      <td>True</td>\n",
       "      <td>295509</td>\n",
       "      <td>4.66019</td>\n",
       "      <td>4.67874</td>\n",
       "      <td>78006</td>\n",
       "      <td>False</td>\n",
       "      <td>84</td>\n",
       "      <td>0</td>\n",
       "      <td>2016-02-14 22:57:48+00:00</td>\n",
       "      <td>2016-04-06 05:16:11+00:00</td>\n",
       "      <td>455.0</td>\n",
       "      <td>8640</td>\n",
       "      <td>2016</td>\n",
       "      <td>4</td>\n",
       "      <td>5.266204</td>\n",
       "      <td>134456595.0</td>\n",
       "    </tr>\n",
       "    <tr>\n",
       "      <th>10</th>\n",
       "      <td>1570206</td>\n",
       "      <td>Microsoft Power BI - Up &amp; Running With Power B...</td>\n",
       "      <td>/course/microsoft-power-bi-up-running-with-pow...</td>\n",
       "      <td>True</td>\n",
       "      <td>86715</td>\n",
       "      <td>4.61951</td>\n",
       "      <td>4.63301</td>\n",
       "      <td>23580</td>\n",
       "      <td>False</td>\n",
       "      <td>117</td>\n",
       "      <td>0</td>\n",
       "      <td>2018-02-25 19:08:58+00:00</td>\n",
       "      <td>2018-04-26 17:06:36+00:00</td>\n",
       "      <td>455.0</td>\n",
       "      <td>8640</td>\n",
       "      <td>2018</td>\n",
       "      <td>4</td>\n",
       "      <td>5.266204</td>\n",
       "      <td>39455325.0</td>\n",
       "    </tr>\n",
       "  </tbody>\n",
       "</table>\n",
       "</div>"
      ],
      "text/plain": [
       "         id                                              title  \\\n",
       "0    762616  The Complete SQL Bootcamp 2020: Go from Zero t...   \n",
       "10  1570206  Microsoft Power BI - Up & Running With Power B...   \n",
       "\n",
       "                                                  url  is_paid  \\\n",
       "0                  /course/the-complete-sql-bootcamp/     True   \n",
       "10  /course/microsoft-power-bi-up-running-with-pow...     True   \n",
       "\n",
       "    num_subscribers  avg_rating  avg_rating_recent  num_reviews  \\\n",
       "0            295509     4.66019            4.67874        78006   \n",
       "10            86715     4.61951            4.63301        23580   \n",
       "\n",
       "    is_wishlisted  num_published_lectures  num_published_practice_tests  \\\n",
       "0           False                      84                             0   \n",
       "10          False                     117                             0   \n",
       "\n",
       "                     created            published_time  \\\n",
       "0  2016-02-14 22:57:48+00:00 2016-04-06 05:16:11+00:00   \n",
       "10 2018-02-25 19:08:58+00:00 2018-04-26 17:06:36+00:00   \n",
       "\n",
       "    discount_price__amount  price_detail__amount  published_year  \\\n",
       "0                    455.0                  8640            2016   \n",
       "10                   455.0                  8640            2018   \n",
       "\n",
       "    published_month  discount_perc        sales  \n",
       "0                 4       5.266204  134456595.0  \n",
       "10                4       5.266204   39455325.0  "
      ]
     },
     "execution_count": 29,
     "metadata": {},
     "output_type": "execute_result"
    }
   ],
   "source": [
    "df[df['num_published_lectures']>39].head(10).sort_values(by=['avg_rating','num_reviews'],ascending=False).head(2)"
   ]
  },
  {
   "cell_type": "markdown",
   "metadata": {
    "id": "g9ikyH3ax9iI"
   },
   "source": [
    "**It is evident that this data is significant for dataset as all the average value has seen significant jump. So we can conclude from this that there should be atleast 39 lectures.**"
   ]
  },
  {
   "cell_type": "code",
   "execution_count": 30,
   "metadata": {
    "executionInfo": {
     "elapsed": 94,
     "status": "ok",
     "timestamp": 1664624802727,
     "user": {
      "displayName": "shubhanshu kanungo",
      "userId": "17740872798386647060"
     },
     "user_tz": -330
    },
    "id": "r693G_F-iTGX"
   },
   "outputs": [],
   "source": [
    "new3 = df.groupby('num_published_practice_tests')[['num_subscribers','avg_rating']].mean().reset_index()"
   ]
  },
  {
   "cell_type": "code",
   "execution_count": 31,
   "metadata": {
    "colab": {
     "base_uri": "https://localhost:8080/",
     "height": 269
    },
    "executionInfo": {
     "elapsed": 97,
     "status": "ok",
     "timestamp": 1664624802734,
     "user": {
      "displayName": "shubhanshu kanungo",
      "userId": "17740872798386647060"
     },
     "user_tz": -330
    },
    "id": "_geGcJqOmfp2",
    "outputId": "f2e58010-1cc2-4654-db7f-1463ad1c8485"
   },
   "outputs": [
    {
     "data": {
      "text/html": [
       "<div>\n",
       "<style scoped>\n",
       "    .dataframe tbody tr th:only-of-type {\n",
       "        vertical-align: middle;\n",
       "    }\n",
       "\n",
       "    .dataframe tbody tr th {\n",
       "        vertical-align: top;\n",
       "    }\n",
       "\n",
       "    .dataframe thead th {\n",
       "        text-align: right;\n",
       "    }\n",
       "</style>\n",
       "<table border=\"1\" class=\"dataframe\">\n",
       "  <thead>\n",
       "    <tr style=\"text-align: right;\">\n",
       "      <th></th>\n",
       "      <th>num_published_practice_tests</th>\n",
       "      <th>num_subscribers</th>\n",
       "      <th>avg_rating</th>\n",
       "    </tr>\n",
       "  </thead>\n",
       "  <tbody>\n",
       "    <tr>\n",
       "      <th>0</th>\n",
       "      <td>0</td>\n",
       "      <td>3559.618273</td>\n",
       "      <td>4.136555</td>\n",
       "    </tr>\n",
       "    <tr>\n",
       "      <th>1</th>\n",
       "      <td>1</td>\n",
       "      <td>2470.500000</td>\n",
       "      <td>4.105686</td>\n",
       "    </tr>\n",
       "    <tr>\n",
       "      <th>2</th>\n",
       "      <td>2</td>\n",
       "      <td>2984.730769</td>\n",
       "      <td>4.037462</td>\n",
       "    </tr>\n",
       "    <tr>\n",
       "      <th>3</th>\n",
       "      <td>3</td>\n",
       "      <td>744.214286</td>\n",
       "      <td>3.861100</td>\n",
       "    </tr>\n",
       "    <tr>\n",
       "      <th>4</th>\n",
       "      <td>4</td>\n",
       "      <td>897.266667</td>\n",
       "      <td>3.867778</td>\n",
       "    </tr>\n",
       "    <tr>\n",
       "      <th>5</th>\n",
       "      <td>5</td>\n",
       "      <td>1203.240000</td>\n",
       "      <td>3.716561</td>\n",
       "    </tr>\n",
       "    <tr>\n",
       "      <th>6</th>\n",
       "      <td>6</td>\n",
       "      <td>1005.312500</td>\n",
       "      <td>4.042586</td>\n",
       "    </tr>\n",
       "  </tbody>\n",
       "</table>\n",
       "</div>"
      ],
      "text/plain": [
       "   num_published_practice_tests  num_subscribers  avg_rating\n",
       "0                             0      3559.618273    4.136555\n",
       "1                             1      2470.500000    4.105686\n",
       "2                             2      2984.730769    4.037462\n",
       "3                             3       744.214286    3.861100\n",
       "4                             4       897.266667    3.867778\n",
       "5                             5      1203.240000    3.716561\n",
       "6                             6      1005.312500    4.042586"
      ]
     },
     "execution_count": 31,
     "metadata": {},
     "output_type": "execute_result"
    }
   ],
   "source": [
    "new3"
   ]
  },
  {
   "cell_type": "code",
   "execution_count": 32,
   "metadata": {
    "colab": {
     "base_uri": "https://localhost:8080/",
     "height": 389
    },
    "executionInfo": {
     "elapsed": 98,
     "status": "ok",
     "timestamp": 1664624802740,
     "user": {
      "displayName": "shubhanshu kanungo",
      "userId": "17740872798386647060"
     },
     "user_tz": -330
    },
    "id": "TTwoYiNdfYL3",
    "outputId": "f4655ea4-a7a8-4dee-86aa-a9618d895c67"
   },
   "outputs": [
    {
     "data": {
      "image/png": "[encoded data removed]",
      "text/plain": [
       "<Figure size 1296x432 with 2 Axes>"
      ]
     },
     "metadata": {
      "needs_background": "light"
     },
     "output_type": "display_data"
    }
   ],
   "source": [
    "fig,axes = plt.subplots(1,2,figsize=(18,6))\n",
    "sns.scatterplot(ax=axes[0],data=df,x=df['avg_rating'],y=df['num_reviews'])\n",
    "sns.scatterplot(ax=axes[1],data=df,x=df['avg_rating'],y=df['num_subscribers'])\n",
    "plt.show()"
   ]
  },
  {
   "cell_type": "markdown",
   "metadata": {
    "id": "BTKkxNXCg3mT"
   },
   "source": [
    "***No. of subscriptions, most reviews,avg rating above 4.2, 0-2 published practice tests, above 40 published lectures, and discount price close to 500.***"
   ]
  },
  {
   "cell_type": "code",
   "execution_count": 33,
   "metadata": {
    "executionInfo": {
     "elapsed": 93,
     "status": "ok",
     "timestamp": 1664624802744,
     "user": {
      "displayName": "shubhanshu kanungo",
      "userId": "17740872798386647060"
     },
     "user_tz": -330
    },
    "id": "K15NelnFBAUa"
   },
   "outputs": [],
   "source": [
    "df[['created','published_time']] = df[['created','published_time']].astype(str)"
   ]
  },
  {
   "cell_type": "code",
   "execution_count": 34,
   "metadata": {
    "colab": {
     "base_uri": "https://localhost:8080/",
     "height": 384
    },
    "executionInfo": {
     "elapsed": 92,
     "status": "ok",
     "timestamp": 1664624802746,
     "user": {
      "displayName": "shubhanshu kanungo",
      "userId": "17740872798386647060"
     },
     "user_tz": -330
    },
    "id": "YGzhaBIlCPxt",
    "outputId": "8cd2bfcd-f82c-4878-f2fe-41b7b8a83a9e"
   },
   "outputs": [
    {
     "data": {
      "text/html": [
       "<div>\n",
       "<style scoped>\n",
       "    .dataframe tbody tr th:only-of-type {\n",
       "        vertical-align: middle;\n",
       "    }\n",
       "\n",
       "    .dataframe tbody tr th {\n",
       "        vertical-align: top;\n",
       "    }\n",
       "\n",
       "    .dataframe thead th {\n",
       "        text-align: right;\n",
       "    }\n",
       "</style>\n",
       "<table border=\"1\" class=\"dataframe\">\n",
       "  <thead>\n",
       "    <tr style=\"text-align: right;\">\n",
       "      <th></th>\n",
       "      <th>id</th>\n",
       "      <th>title</th>\n",
       "      <th>url</th>\n",
       "      <th>is_paid</th>\n",
       "      <th>num_subscribers</th>\n",
       "      <th>avg_rating</th>\n",
       "      <th>avg_rating_recent</th>\n",
       "      <th>num_reviews</th>\n",
       "      <th>is_wishlisted</th>\n",
       "      <th>num_published_lectures</th>\n",
       "      <th>num_published_practice_tests</th>\n",
       "      <th>created</th>\n",
       "      <th>published_time</th>\n",
       "      <th>discount_price__amount</th>\n",
       "      <th>price_detail__amount</th>\n",
       "      <th>published_year</th>\n",
       "      <th>published_month</th>\n",
       "      <th>discount_perc</th>\n",
       "      <th>sales</th>\n",
       "    </tr>\n",
       "  </thead>\n",
       "  <tbody>\n",
       "    <tr>\n",
       "      <th>0</th>\n",
       "      <td>762616</td>\n",
       "      <td>The Complete SQL Bootcamp 2020: Go from Zero t...</td>\n",
       "      <td>/course/the-complete-sql-bootcamp/</td>\n",
       "      <td>True</td>\n",
       "      <td>295509</td>\n",
       "      <td>4.66019</td>\n",
       "      <td>4.67874</td>\n",
       "      <td>78006</td>\n",
       "      <td>False</td>\n",
       "      <td>84</td>\n",
       "      <td>0</td>\n",
       "      <td>2016-02-14 22:57:48+00:00</td>\n",
       "      <td>2016-04-06 05:16:11+00:00</td>\n",
       "      <td>455.0</td>\n",
       "      <td>8640</td>\n",
       "      <td>2016</td>\n",
       "      <td>4</td>\n",
       "      <td>5.266204</td>\n",
       "      <td>134456595.0</td>\n",
       "    </tr>\n",
       "    <tr>\n",
       "      <th>1</th>\n",
       "      <td>937678</td>\n",
       "      <td>Tableau 2020 A-Z: Hands-On Tableau Training fo...</td>\n",
       "      <td>/course/tableau10/</td>\n",
       "      <td>True</td>\n",
       "      <td>209070</td>\n",
       "      <td>4.58956</td>\n",
       "      <td>4.60015</td>\n",
       "      <td>54581</td>\n",
       "      <td>False</td>\n",
       "      <td>78</td>\n",
       "      <td>0</td>\n",
       "      <td>2016-08-22 12:10:18+00:00</td>\n",
       "      <td>2016-08-23 16:59:49+00:00</td>\n",
       "      <td>455.0</td>\n",
       "      <td>8640</td>\n",
       "      <td>2016</td>\n",
       "      <td>8</td>\n",
       "      <td>5.266204</td>\n",
       "      <td>95126850.0</td>\n",
       "    </tr>\n",
       "  </tbody>\n",
       "</table>\n",
       "</div>"
      ],
      "text/plain": [
       "       id                                              title  \\\n",
       "0  762616  The Complete SQL Bootcamp 2020: Go from Zero t...   \n",
       "1  937678  Tableau 2020 A-Z: Hands-On Tableau Training fo...   \n",
       "\n",
       "                                  url  is_paid  num_subscribers  avg_rating  \\\n",
       "0  /course/the-complete-sql-bootcamp/     True           295509     4.66019   \n",
       "1                  /course/tableau10/     True           209070     4.58956   \n",
       "\n",
       "   avg_rating_recent  num_reviews  is_wishlisted  num_published_lectures  \\\n",
       "0            4.67874        78006          False                      84   \n",
       "1            4.60015        54581          False                      78   \n",
       "\n",
       "   num_published_practice_tests                    created  \\\n",
       "0                             0  2016-02-14 22:57:48+00:00   \n",
       "1                             0  2016-08-22 12:10:18+00:00   \n",
       "\n",
       "              published_time  discount_price__amount  price_detail__amount  \\\n",
       "0  2016-04-06 05:16:11+00:00                   455.0                  8640   \n",
       "1  2016-08-23 16:59:49+00:00                   455.0                  8640   \n",
       "\n",
       "   published_year  published_month  discount_perc        sales  \n",
       "0            2016                4       5.266204  134456595.0  \n",
       "1            2016                8       5.266204   95126850.0  "
      ]
     },
     "execution_count": 34,
     "metadata": {},
     "output_type": "execute_result"
    }
   ],
   "source": [
    "df.head(2)"
   ]
  },
  {
   "cell_type": "code",
   "execution_count": 35,
   "metadata": {
    "executionInfo": {
     "elapsed": 6805,
     "status": "ok",
     "timestamp": 1664624809463,
     "user": {
      "displayName": "shubhanshu kanungo",
      "userId": "17740872798386647060"
     },
     "user_tz": -330
    },
    "id": "umG1n50c_W3N"
   },
   "outputs": [
    {
     "ename": "OSError",
     "evalue": "Cannot save file into a non-existent directory: '\\content'",
     "output_type": "error",
     "traceback": [
      "\u001b[1;31m---------------------------------------------------------------------------\u001b[0m",
      "\u001b[1;31mOSError\u001b[0m                                   Traceback (most recent call last)",
      "Input \u001b[1;32mIn [35]\u001b[0m, in \u001b[0;36m<cell line: 1>\u001b[1;34m()\u001b[0m\n\u001b[1;32m----> 1\u001b[0m \u001b[43mdf\u001b[49m\u001b[38;5;241;43m.\u001b[39;49m\u001b[43mto_excel\u001b[49m\u001b[43m(\u001b[49m\u001b[38;5;124;43m'\u001b[39;49m\u001b[38;5;124;43m/content/online_All_Business_p1_p626new.xlsx\u001b[39;49m\u001b[38;5;124;43m'\u001b[39;49m\u001b[43m,\u001b[49m\u001b[43mindex\u001b[49m\u001b[38;5;241;43m=\u001b[39;49m\u001b[38;5;28;43;01mFalse\u001b[39;49;00m\u001b[43m)\u001b[49m\n",
      "File \u001b[1;32m~\\anaconda3\\lib\\site-packages\\pandas\\core\\generic.py:2345\u001b[0m, in \u001b[0;36mNDFrame.to_excel\u001b[1;34m(self, excel_writer, sheet_name, na_rep, float_format, columns, header, index, index_label, startrow, startcol, engine, merge_cells, encoding, inf_rep, verbose, freeze_panes, storage_options)\u001b[0m\n\u001b[0;32m   2332\u001b[0m \u001b[38;5;28;01mfrom\u001b[39;00m \u001b[38;5;21;01mpandas\u001b[39;00m\u001b[38;5;21;01m.\u001b[39;00m\u001b[38;5;21;01mio\u001b[39;00m\u001b[38;5;21;01m.\u001b[39;00m\u001b[38;5;21;01mformats\u001b[39;00m\u001b[38;5;21;01m.\u001b[39;00m\u001b[38;5;21;01mexcel\u001b[39;00m \u001b[38;5;28;01mimport\u001b[39;00m ExcelFormatter\n\u001b[0;32m   2334\u001b[0m formatter \u001b[38;5;241m=\u001b[39m ExcelFormatter(\n\u001b[0;32m   2335\u001b[0m     df,\n\u001b[0;32m   2336\u001b[0m     na_rep\u001b[38;5;241m=\u001b[39mna_rep,\n\u001b[1;32m   (...)\u001b[0m\n\u001b[0;32m   2343\u001b[0m     inf_rep\u001b[38;5;241m=\u001b[39minf_rep,\n\u001b[0;32m   2344\u001b[0m )\n\u001b[1;32m-> 2345\u001b[0m \u001b[43mformatter\u001b[49m\u001b[38;5;241;43m.\u001b[39;49m\u001b[43mwrite\u001b[49m\u001b[43m(\u001b[49m\n\u001b[0;32m   2346\u001b[0m \u001b[43m    \u001b[49m\u001b[43mexcel_writer\u001b[49m\u001b[43m,\u001b[49m\n\u001b[0;32m   2347\u001b[0m \u001b[43m    \u001b[49m\u001b[43msheet_name\u001b[49m\u001b[38;5;241;43m=\u001b[39;49m\u001b[43msheet_name\u001b[49m\u001b[43m,\u001b[49m\n\u001b[0;32m   2348\u001b[0m \u001b[43m    \u001b[49m\u001b[43mstartrow\u001b[49m\u001b[38;5;241;43m=\u001b[39;49m\u001b[43mstartrow\u001b[49m\u001b[43m,\u001b[49m\n\u001b[0;32m   2349\u001b[0m \u001b[43m    \u001b[49m\u001b[43mstartcol\u001b[49m\u001b[38;5;241;43m=\u001b[39;49m\u001b[43mstartcol\u001b[49m\u001b[43m,\u001b[49m\n\u001b[0;32m   2350\u001b[0m \u001b[43m    \u001b[49m\u001b[43mfreeze_panes\u001b[49m\u001b[38;5;241;43m=\u001b[39;49m\u001b[43mfreeze_panes\u001b[49m\u001b[43m,\u001b[49m\n\u001b[0;32m   2351\u001b[0m \u001b[43m    \u001b[49m\u001b[43mengine\u001b[49m\u001b[38;5;241;43m=\u001b[39;49m\u001b[43mengine\u001b[49m\u001b[43m,\u001b[49m\n\u001b[0;32m   2352\u001b[0m \u001b[43m    \u001b[49m\u001b[43mstorage_options\u001b[49m\u001b[38;5;241;43m=\u001b[39;49m\u001b[43mstorage_options\u001b[49m\u001b[43m,\u001b[49m\n\u001b[0;32m   2353\u001b[0m \u001b[43m\u001b[49m\u001b[43m)\u001b[49m\n",
      "File \u001b[1;32m~\\anaconda3\\lib\\site-packages\\pandas\\io\\formats\\excel.py:888\u001b[0m, in \u001b[0;36mExcelFormatter.write\u001b[1;34m(self, writer, sheet_name, startrow, startcol, freeze_panes, engine, storage_options)\u001b[0m\n\u001b[0;32m    884\u001b[0m     need_save \u001b[38;5;241m=\u001b[39m \u001b[38;5;28;01mFalse\u001b[39;00m\n\u001b[0;32m    885\u001b[0m \u001b[38;5;28;01melse\u001b[39;00m:\n\u001b[0;32m    886\u001b[0m     \u001b[38;5;66;03m# error: Cannot instantiate abstract class 'ExcelWriter' with abstract\u001b[39;00m\n\u001b[0;32m    887\u001b[0m     \u001b[38;5;66;03m# attributes 'engine', 'save', 'supported_extensions' and 'write_cells'\u001b[39;00m\n\u001b[1;32m--> 888\u001b[0m     writer \u001b[38;5;241m=\u001b[39m \u001b[43mExcelWriter\u001b[49m\u001b[43m(\u001b[49m\u001b[43m  \u001b[49m\u001b[38;5;66;43;03m# type: ignore[abstract]\u001b[39;49;00m\n\u001b[0;32m    889\u001b[0m \u001b[43m        \u001b[49m\u001b[43mwriter\u001b[49m\u001b[43m,\u001b[49m\u001b[43m \u001b[49m\u001b[43mengine\u001b[49m\u001b[38;5;241;43m=\u001b[39;49m\u001b[43mengine\u001b[49m\u001b[43m,\u001b[49m\u001b[43m \u001b[49m\u001b[43mstorage_options\u001b[49m\u001b[38;5;241;43m=\u001b[39;49m\u001b[43mstorage_options\u001b[49m\n\u001b[0;32m    890\u001b[0m \u001b[43m    \u001b[49m\u001b[43m)\u001b[49m\n\u001b[0;32m    891\u001b[0m     need_save \u001b[38;5;241m=\u001b[39m \u001b[38;5;28;01mTrue\u001b[39;00m\n\u001b[0;32m    893\u001b[0m \u001b[38;5;28;01mtry\u001b[39;00m:\n",
      "File \u001b[1;32m~\\anaconda3\\lib\\site-packages\\pandas\\io\\excel\\_xlsxwriter.py:191\u001b[0m, in \u001b[0;36mXlsxWriter.__init__\u001b[1;34m(self, path, engine, date_format, datetime_format, mode, storage_options, if_sheet_exists, engine_kwargs, **kwargs)\u001b[0m\n\u001b[0;32m    188\u001b[0m \u001b[38;5;28;01mif\u001b[39;00m mode \u001b[38;5;241m==\u001b[39m \u001b[38;5;124m\"\u001b[39m\u001b[38;5;124ma\u001b[39m\u001b[38;5;124m\"\u001b[39m:\n\u001b[0;32m    189\u001b[0m     \u001b[38;5;28;01mraise\u001b[39;00m \u001b[38;5;167;01mValueError\u001b[39;00m(\u001b[38;5;124m\"\u001b[39m\u001b[38;5;124mAppend mode is not supported with xlsxwriter!\u001b[39m\u001b[38;5;124m\"\u001b[39m)\n\u001b[1;32m--> 191\u001b[0m \u001b[38;5;28;43msuper\u001b[39;49m\u001b[43m(\u001b[49m\u001b[43m)\u001b[49m\u001b[38;5;241;43m.\u001b[39;49m\u001b[38;5;21;43m__init__\u001b[39;49m\u001b[43m(\u001b[49m\n\u001b[0;32m    192\u001b[0m \u001b[43m    \u001b[49m\u001b[43mpath\u001b[49m\u001b[43m,\u001b[49m\n\u001b[0;32m    193\u001b[0m \u001b[43m    \u001b[49m\u001b[43mengine\u001b[49m\u001b[38;5;241;43m=\u001b[39;49m\u001b[43mengine\u001b[49m\u001b[43m,\u001b[49m\n\u001b[0;32m    194\u001b[0m \u001b[43m    \u001b[49m\u001b[43mdate_format\u001b[49m\u001b[38;5;241;43m=\u001b[39;49m\u001b[43mdate_format\u001b[49m\u001b[43m,\u001b[49m\n\u001b[0;32m    195\u001b[0m \u001b[43m    \u001b[49m\u001b[43mdatetime_format\u001b[49m\u001b[38;5;241;43m=\u001b[39;49m\u001b[43mdatetime_format\u001b[49m\u001b[43m,\u001b[49m\n\u001b[0;32m    196\u001b[0m \u001b[43m    \u001b[49m\u001b[43mmode\u001b[49m\u001b[38;5;241;43m=\u001b[39;49m\u001b[43mmode\u001b[49m\u001b[43m,\u001b[49m\n\u001b[0;32m    197\u001b[0m \u001b[43m    \u001b[49m\u001b[43mstorage_options\u001b[49m\u001b[38;5;241;43m=\u001b[39;49m\u001b[43mstorage_options\u001b[49m\u001b[43m,\u001b[49m\n\u001b[0;32m    198\u001b[0m \u001b[43m    \u001b[49m\u001b[43mif_sheet_exists\u001b[49m\u001b[38;5;241;43m=\u001b[39;49m\u001b[43mif_sheet_exists\u001b[49m\u001b[43m,\u001b[49m\n\u001b[0;32m    199\u001b[0m \u001b[43m    \u001b[49m\u001b[43mengine_kwargs\u001b[49m\u001b[38;5;241;43m=\u001b[39;49m\u001b[43mengine_kwargs\u001b[49m\u001b[43m,\u001b[49m\n\u001b[0;32m    200\u001b[0m \u001b[43m\u001b[49m\u001b[43m)\u001b[49m\n\u001b[0;32m    202\u001b[0m \u001b[38;5;28mself\u001b[39m\u001b[38;5;241m.\u001b[39mbook \u001b[38;5;241m=\u001b[39m Workbook(\u001b[38;5;28mself\u001b[39m\u001b[38;5;241m.\u001b[39mhandles\u001b[38;5;241m.\u001b[39mhandle, \u001b[38;5;241m*\u001b[39m\u001b[38;5;241m*\u001b[39mengine_kwargs)\n",
      "File \u001b[1;32m~\\anaconda3\\lib\\site-packages\\pandas\\io\\excel\\_base.py:1106\u001b[0m, in \u001b[0;36mExcelWriter.__init__\u001b[1;34m(self, path, engine, date_format, datetime_format, mode, storage_options, if_sheet_exists, engine_kwargs, **kwargs)\u001b[0m\n\u001b[0;32m   1102\u001b[0m \u001b[38;5;28mself\u001b[39m\u001b[38;5;241m.\u001b[39mhandles \u001b[38;5;241m=\u001b[39m IOHandles(\n\u001b[0;32m   1103\u001b[0m     cast(IO[\u001b[38;5;28mbytes\u001b[39m], path), compression\u001b[38;5;241m=\u001b[39m{\u001b[38;5;124m\"\u001b[39m\u001b[38;5;124mcompression\u001b[39m\u001b[38;5;124m\"\u001b[39m: \u001b[38;5;28;01mNone\u001b[39;00m}\n\u001b[0;32m   1104\u001b[0m )\n\u001b[0;32m   1105\u001b[0m \u001b[38;5;28;01mif\u001b[39;00m \u001b[38;5;129;01mnot\u001b[39;00m \u001b[38;5;28misinstance\u001b[39m(path, ExcelWriter):\n\u001b[1;32m-> 1106\u001b[0m     \u001b[38;5;28mself\u001b[39m\u001b[38;5;241m.\u001b[39mhandles \u001b[38;5;241m=\u001b[39m \u001b[43mget_handle\u001b[49m\u001b[43m(\u001b[49m\n\u001b[0;32m   1107\u001b[0m \u001b[43m        \u001b[49m\u001b[43mpath\u001b[49m\u001b[43m,\u001b[49m\u001b[43m \u001b[49m\u001b[43mmode\u001b[49m\u001b[43m,\u001b[49m\u001b[43m \u001b[49m\u001b[43mstorage_options\u001b[49m\u001b[38;5;241;43m=\u001b[39;49m\u001b[43mstorage_options\u001b[49m\u001b[43m,\u001b[49m\u001b[43m \u001b[49m\u001b[43mis_text\u001b[49m\u001b[38;5;241;43m=\u001b[39;49m\u001b[38;5;28;43;01mFalse\u001b[39;49;00m\n\u001b[0;32m   1108\u001b[0m \u001b[43m    \u001b[49m\u001b[43m)\u001b[49m\n\u001b[0;32m   1109\u001b[0m \u001b[38;5;28mself\u001b[39m\u001b[38;5;241m.\u001b[39msheets: \u001b[38;5;28mdict\u001b[39m[\u001b[38;5;28mstr\u001b[39m, Any] \u001b[38;5;241m=\u001b[39m {}\n\u001b[0;32m   1110\u001b[0m \u001b[38;5;28mself\u001b[39m\u001b[38;5;241m.\u001b[39mcur_sheet \u001b[38;5;241m=\u001b[39m \u001b[38;5;28;01mNone\u001b[39;00m\n",
      "File \u001b[1;32m~\\anaconda3\\lib\\site-packages\\pandas\\io\\common.py:697\u001b[0m, in \u001b[0;36mget_handle\u001b[1;34m(path_or_buf, mode, encoding, compression, memory_map, is_text, errors, storage_options)\u001b[0m\n\u001b[0;32m    695\u001b[0m \u001b[38;5;66;03m# Only for write methods\u001b[39;00m\n\u001b[0;32m    696\u001b[0m \u001b[38;5;28;01mif\u001b[39;00m \u001b[38;5;124m\"\u001b[39m\u001b[38;5;124mr\u001b[39m\u001b[38;5;124m\"\u001b[39m \u001b[38;5;129;01mnot\u001b[39;00m \u001b[38;5;129;01min\u001b[39;00m mode \u001b[38;5;129;01mand\u001b[39;00m is_path:\n\u001b[1;32m--> 697\u001b[0m     \u001b[43mcheck_parent_directory\u001b[49m\u001b[43m(\u001b[49m\u001b[38;5;28;43mstr\u001b[39;49m\u001b[43m(\u001b[49m\u001b[43mhandle\u001b[49m\u001b[43m)\u001b[49m\u001b[43m)\u001b[49m\n\u001b[0;32m    699\u001b[0m \u001b[38;5;28;01mif\u001b[39;00m compression:\n\u001b[0;32m    700\u001b[0m     \u001b[38;5;28;01mif\u001b[39;00m compression \u001b[38;5;241m!=\u001b[39m \u001b[38;5;124m\"\u001b[39m\u001b[38;5;124mzstd\u001b[39m\u001b[38;5;124m\"\u001b[39m:\n\u001b[0;32m    701\u001b[0m         \u001b[38;5;66;03m# compression libraries do not like an explicit text-mode\u001b[39;00m\n",
      "File \u001b[1;32m~\\anaconda3\\lib\\site-packages\\pandas\\io\\common.py:571\u001b[0m, in \u001b[0;36mcheck_parent_directory\u001b[1;34m(path)\u001b[0m\n\u001b[0;32m    569\u001b[0m parent \u001b[38;5;241m=\u001b[39m Path(path)\u001b[38;5;241m.\u001b[39mparent\n\u001b[0;32m    570\u001b[0m \u001b[38;5;28;01mif\u001b[39;00m \u001b[38;5;129;01mnot\u001b[39;00m parent\u001b[38;5;241m.\u001b[39mis_dir():\n\u001b[1;32m--> 571\u001b[0m     \u001b[38;5;28;01mraise\u001b[39;00m \u001b[38;5;167;01mOSError\u001b[39;00m(\u001b[38;5;124mrf\u001b[39m\u001b[38;5;124m\"\u001b[39m\u001b[38;5;124mCannot save file into a non-existent directory: \u001b[39m\u001b[38;5;124m'\u001b[39m\u001b[38;5;132;01m{\u001b[39;00mparent\u001b[38;5;132;01m}\u001b[39;00m\u001b[38;5;124m'\u001b[39m\u001b[38;5;124m\"\u001b[39m)\n",
      "\u001b[1;31mOSError\u001b[0m: Cannot save file into a non-existent directory: '\\content'"
     ]
    }
   ],
   "source": [
    "df.to_excel('/content/online_All_Business_p1_p626new.xlsx',index=False)"
   ]
  },
  {
   "cell_type": "code",
   "execution_count": null,
   "metadata": {
    "id": "cp-kOp8PfoDH"
   },
   "outputs": [],
   "source": []
  }
 ],
 "metadata": {
  "colab": {
   "authorship_tag": "ABX9TyN8XnvxaYEkZOjlGrkLnvBi",
   "provenance": []
  },
  "kernelspec": {
   "display_name": "Python 3 (ipykernel)",
   "language": "python",
   "name": "python3"
  },
  "language_info": {
   "codemirror_mode": {
    "name": "ipython",
    "version": 3
   },
   "file_extension": ".py",
   "mimetype": "text/x-python",
   "name": "python",
   "nbconvert_exporter": "python",
   "pygments_lexer": "ipython3",
   "version": "3.9.12"
  }
 },
 "nbformat": 4,
 "nbformat_minor": 1
}
